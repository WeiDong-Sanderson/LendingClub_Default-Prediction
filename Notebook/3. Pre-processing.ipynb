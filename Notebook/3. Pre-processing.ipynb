{
 "cells": [
  {
   "cell_type": "code",
   "execution_count": 3,
   "metadata": {},
   "outputs": [],
   "source": [
    "import pandas as pd\n",
    "import numpy as np\n",
    "import matplotlib.pyplot as plt\n",
    "from sklearn.preprocessing import scale\n",
    "from sklearn.model_selection import train_test_split\n",
    "from sklearn.preprocessing import StandardScaler"
   ]
  },
  {
   "cell_type": "markdown",
   "metadata": {},
   "source": [
    "1. load the cleaned data and drop the 3 features for next analysis"
   ]
  },
  {
   "cell_type": "code",
   "execution_count": 4,
   "metadata": {},
   "outputs": [],
   "source": [
    "df = pd.read_csv(r'C:\\\\Users\\dongw\\OneDrive\\Documents\\2. Programming\\Springboard\\DS\\Lending Club Loan\\data\\df_eda.csv')"
   ]
  },
  {
   "cell_type": "code",
   "execution_count": 5,
   "metadata": {},
   "outputs": [
    {
     "data": {
      "text/html": [
       "<div>\n",
       "<style scoped>\n",
       "    .dataframe tbody tr th:only-of-type {\n",
       "        vertical-align: middle;\n",
       "    }\n",
       "\n",
       "    .dataframe tbody tr th {\n",
       "        vertical-align: top;\n",
       "    }\n",
       "\n",
       "    .dataframe thead th {\n",
       "        text-align: right;\n",
       "    }\n",
       "</style>\n",
       "<table border=\"1\" class=\"dataframe\">\n",
       "  <thead>\n",
       "    <tr style=\"text-align: right;\">\n",
       "      <th></th>\n",
       "      <th>loan_amnt</th>\n",
       "      <th>term</th>\n",
       "      <th>int_rate</th>\n",
       "      <th>installment</th>\n",
       "      <th>grade</th>\n",
       "      <th>sub_grade</th>\n",
       "      <th>emp_length</th>\n",
       "      <th>home_ownership</th>\n",
       "      <th>annual_inc</th>\n",
       "      <th>issue_d</th>\n",
       "      <th>...</th>\n",
       "      <th>num_il_tl</th>\n",
       "      <th>num_op_rev_tl</th>\n",
       "      <th>num_rev_accts</th>\n",
       "      <th>num_tl_op_past_12m</th>\n",
       "      <th>pct_tl_nvr_dlq</th>\n",
       "      <th>percent_bc_gt_75</th>\n",
       "      <th>total_bal_ex_mort</th>\n",
       "      <th>total_bc_limit</th>\n",
       "      <th>total_il_high_credit_limit</th>\n",
       "      <th>Default</th>\n",
       "    </tr>\n",
       "  </thead>\n",
       "  <tbody>\n",
       "    <tr>\n",
       "      <th>0</th>\n",
       "      <td>3600.0</td>\n",
       "      <td>36</td>\n",
       "      <td>13.99</td>\n",
       "      <td>123.03</td>\n",
       "      <td>C</td>\n",
       "      <td>C4</td>\n",
       "      <td>10</td>\n",
       "      <td>MORTGAGE</td>\n",
       "      <td>55000.0</td>\n",
       "      <td>2015-12-01</td>\n",
       "      <td>...</td>\n",
       "      <td>3.0</td>\n",
       "      <td>4.0</td>\n",
       "      <td>9.0</td>\n",
       "      <td>3.0</td>\n",
       "      <td>76.9</td>\n",
       "      <td>0.0</td>\n",
       "      <td>7746.0</td>\n",
       "      <td>2400.0</td>\n",
       "      <td>13734.0</td>\n",
       "      <td>0</td>\n",
       "    </tr>\n",
       "    <tr>\n",
       "      <th>1</th>\n",
       "      <td>24700.0</td>\n",
       "      <td>36</td>\n",
       "      <td>11.99</td>\n",
       "      <td>820.28</td>\n",
       "      <td>C</td>\n",
       "      <td>C1</td>\n",
       "      <td>10</td>\n",
       "      <td>MORTGAGE</td>\n",
       "      <td>65000.0</td>\n",
       "      <td>2015-12-01</td>\n",
       "      <td>...</td>\n",
       "      <td>6.0</td>\n",
       "      <td>20.0</td>\n",
       "      <td>27.0</td>\n",
       "      <td>2.0</td>\n",
       "      <td>97.4</td>\n",
       "      <td>7.7</td>\n",
       "      <td>39475.0</td>\n",
       "      <td>79300.0</td>\n",
       "      <td>24667.0</td>\n",
       "      <td>0</td>\n",
       "    </tr>\n",
       "    <tr>\n",
       "      <th>2</th>\n",
       "      <td>20000.0</td>\n",
       "      <td>60</td>\n",
       "      <td>10.78</td>\n",
       "      <td>432.66</td>\n",
       "      <td>B</td>\n",
       "      <td>B4</td>\n",
       "      <td>10</td>\n",
       "      <td>MORTGAGE</td>\n",
       "      <td>63000.0</td>\n",
       "      <td>2015-12-01</td>\n",
       "      <td>...</td>\n",
       "      <td>6.0</td>\n",
       "      <td>4.0</td>\n",
       "      <td>7.0</td>\n",
       "      <td>0.0</td>\n",
       "      <td>100.0</td>\n",
       "      <td>50.0</td>\n",
       "      <td>18696.0</td>\n",
       "      <td>6200.0</td>\n",
       "      <td>14877.0</td>\n",
       "      <td>0</td>\n",
       "    </tr>\n",
       "    <tr>\n",
       "      <th>3</th>\n",
       "      <td>10400.0</td>\n",
       "      <td>60</td>\n",
       "      <td>22.45</td>\n",
       "      <td>289.91</td>\n",
       "      <td>F</td>\n",
       "      <td>F1</td>\n",
       "      <td>3</td>\n",
       "      <td>MORTGAGE</td>\n",
       "      <td>104433.0</td>\n",
       "      <td>2015-12-01</td>\n",
       "      <td>...</td>\n",
       "      <td>10.0</td>\n",
       "      <td>7.0</td>\n",
       "      <td>19.0</td>\n",
       "      <td>4.0</td>\n",
       "      <td>96.6</td>\n",
       "      <td>60.0</td>\n",
       "      <td>95768.0</td>\n",
       "      <td>20300.0</td>\n",
       "      <td>88097.0</td>\n",
       "      <td>0</td>\n",
       "    </tr>\n",
       "    <tr>\n",
       "      <th>4</th>\n",
       "      <td>11950.0</td>\n",
       "      <td>36</td>\n",
       "      <td>13.44</td>\n",
       "      <td>405.18</td>\n",
       "      <td>C</td>\n",
       "      <td>C3</td>\n",
       "      <td>4</td>\n",
       "      <td>RENT</td>\n",
       "      <td>34000.0</td>\n",
       "      <td>2015-12-01</td>\n",
       "      <td>...</td>\n",
       "      <td>2.0</td>\n",
       "      <td>4.0</td>\n",
       "      <td>4.0</td>\n",
       "      <td>0.0</td>\n",
       "      <td>100.0</td>\n",
       "      <td>100.0</td>\n",
       "      <td>12798.0</td>\n",
       "      <td>9400.0</td>\n",
       "      <td>4000.0</td>\n",
       "      <td>0</td>\n",
       "    </tr>\n",
       "  </tbody>\n",
       "</table>\n",
       "<p>5 rows × 53 columns</p>\n",
       "</div>"
      ],
      "text/plain": [
       "   loan_amnt  term  int_rate  installment grade sub_grade  emp_length  \\\n",
       "0     3600.0    36     13.99       123.03     C        C4          10   \n",
       "1    24700.0    36     11.99       820.28     C        C1          10   \n",
       "2    20000.0    60     10.78       432.66     B        B4          10   \n",
       "3    10400.0    60     22.45       289.91     F        F1           3   \n",
       "4    11950.0    36     13.44       405.18     C        C3           4   \n",
       "\n",
       "  home_ownership  annual_inc     issue_d  ... num_il_tl num_op_rev_tl  \\\n",
       "0       MORTGAGE     55000.0  2015-12-01  ...       3.0           4.0   \n",
       "1       MORTGAGE     65000.0  2015-12-01  ...       6.0          20.0   \n",
       "2       MORTGAGE     63000.0  2015-12-01  ...       6.0           4.0   \n",
       "3       MORTGAGE    104433.0  2015-12-01  ...      10.0           7.0   \n",
       "4           RENT     34000.0  2015-12-01  ...       2.0           4.0   \n",
       "\n",
       "  num_rev_accts  num_tl_op_past_12m  pct_tl_nvr_dlq  percent_bc_gt_75  \\\n",
       "0           9.0                 3.0            76.9               0.0   \n",
       "1          27.0                 2.0            97.4               7.7   \n",
       "2           7.0                 0.0           100.0              50.0   \n",
       "3          19.0                 4.0            96.6              60.0   \n",
       "4           4.0                 0.0           100.0             100.0   \n",
       "\n",
       "   total_bal_ex_mort  total_bc_limit  total_il_high_credit_limit  Default  \n",
       "0             7746.0          2400.0                     13734.0        0  \n",
       "1            39475.0         79300.0                     24667.0        0  \n",
       "2            18696.0          6200.0                     14877.0        0  \n",
       "3            95768.0         20300.0                     88097.0        0  \n",
       "4            12798.0          9400.0                      4000.0        0  \n",
       "\n",
       "[5 rows x 53 columns]"
      ]
     },
     "execution_count": 5,
     "metadata": {},
     "output_type": "execute_result"
    }
   ],
   "source": [
    "df.head()"
   ]
  },
  {
   "cell_type": "code",
   "execution_count": 6,
   "metadata": {},
   "outputs": [],
   "source": [
    "df['issue_d'] = pd.to_datetime(df['issue_d'], errors='coerce')"
   ]
  },
  {
   "cell_type": "code",
   "execution_count": 7,
   "metadata": {},
   "outputs": [],
   "source": [
    "col = ['loan_amnt', 'int_rate', 'installment']"
   ]
  },
  {
   "cell_type": "code",
   "execution_count": 8,
   "metadata": {},
   "outputs": [],
   "source": [
    "df.drop(columns = 'loan_status', axis =1, inplace=True)"
   ]
  },
  {
   "cell_type": "code",
   "execution_count": 9,
   "metadata": {},
   "outputs": [
    {
     "data": {
      "text/plain": [
       "(1369566, 52)"
      ]
     },
     "execution_count": 9,
     "metadata": {},
     "output_type": "execute_result"
    }
   ],
   "source": [
    "df.shape"
   ]
  },
  {
   "cell_type": "code",
   "execution_count": 10,
   "metadata": {},
   "outputs": [
    {
     "data": {
      "text/plain": [
       "Index(['grade', 'sub_grade', 'home_ownership', 'purpose', 'addr_state',\n",
       "       'application_type'],\n",
       "      dtype='object')"
      ]
     },
     "execution_count": 10,
     "metadata": {},
     "output_type": "execute_result"
    }
   ],
   "source": [
    "#select the category variables\n",
    "df.select_dtypes('object').columns"
   ]
  },
  {
   "cell_type": "code",
   "execution_count": 11,
   "metadata": {},
   "outputs": [
    {
     "data": {
      "text/plain": [
       "Index(['loan_amnt', 'int_rate', 'installment', 'annual_inc', 'dti',\n",
       "       'delinq_2yrs', 'fico_range_low', 'inq_last_6mths',\n",
       "       'mths_since_last_delinq', 'open_acc', 'revol_bal', 'revol_util',\n",
       "       'total_acc', 'total_rec_prncp', 'total_rec_int', 'tot_cur_bal',\n",
       "       'total_rev_hi_lim', 'acc_open_past_24mths', 'avg_cur_bal',\n",
       "       'bc_open_to_buy', 'bc_util', 'mo_sin_old_il_acct',\n",
       "       'mo_sin_old_rev_tl_op', 'mo_sin_rcnt_rev_tl_op', 'mo_sin_rcnt_tl',\n",
       "       'mort_acc', 'mths_since_recent_bc', 'mths_since_recent_inq',\n",
       "       'num_accts_ever_120_pd', 'num_actv_bc_tl', 'num_actv_rev_tl',\n",
       "       'num_bc_sats', 'num_bc_tl', 'num_il_tl', 'num_op_rev_tl',\n",
       "       'num_rev_accts', 'num_tl_op_past_12m', 'pct_tl_nvr_dlq',\n",
       "       'percent_bc_gt_75', 'total_bal_ex_mort', 'total_bc_limit',\n",
       "       'total_il_high_credit_limit'],\n",
       "      dtype='object')"
      ]
     },
     "execution_count": 11,
     "metadata": {},
     "output_type": "execute_result"
    }
   ],
   "source": [
    "df.select_dtypes('float64').columns"
   ]
  },
  {
   "cell_type": "code",
   "execution_count": 12,
   "metadata": {},
   "outputs": [
    {
     "data": {
      "text/plain": [
       "Index(['term', 'emp_length', 'Default'], dtype='object')"
      ]
     },
     "execution_count": 12,
     "metadata": {},
     "output_type": "execute_result"
    }
   ],
   "source": [
    "df.select_dtypes('int64').columns"
   ]
  },
  {
   "cell_type": "code",
   "execution_count": 13,
   "metadata": {},
   "outputs": [],
   "source": [
    "#drop unnessary predictors before pre-processing\n",
    "drop_list = ['grade','addr_state']\n",
    "df.drop(columns = drop_list, inplace=True)"
   ]
  },
  {
   "cell_type": "code",
   "execution_count": 14,
   "metadata": {},
   "outputs": [
    {
     "data": {
      "text/plain": [
       "(1369566, 50)"
      ]
     },
     "execution_count": 14,
     "metadata": {},
     "output_type": "execute_result"
    }
   ],
   "source": [
    "df.shape"
   ]
  },
  {
   "cell_type": "markdown",
   "metadata": {},
   "source": [
    "2. Check for missing values and create dummy features (Categorical variables)"
   ]
  },
  {
   "cell_type": "markdown",
   "metadata": {},
   "source": [
    "There is no categorical variables missing. Therefore, we don't need to crated NaN dummy variables. We will create dummy variables for categorical variables."
   ]
  },
  {
   "cell_type": "code",
   "execution_count": 15,
   "metadata": {},
   "outputs": [
    {
     "data": {
      "text/plain": [
       "(1369566, 88)"
      ]
     },
     "execution_count": 15,
     "metadata": {},
     "output_type": "execute_result"
    }
   ],
   "source": [
    "#df_X = df.drop(['Default'], axis =1)\n",
    "df_dummies = pd.get_dummies(df, columns=['sub_grade', 'home_ownership', 'purpose', 'application_type'], drop_first = True)\n",
    "df_dummies.shape"
   ]
  },
  {
   "cell_type": "code",
   "execution_count": 16,
   "metadata": {},
   "outputs": [
    {
     "data": {
      "text/html": [
       "<div>\n",
       "<style scoped>\n",
       "    .dataframe tbody tr th:only-of-type {\n",
       "        vertical-align: middle;\n",
       "    }\n",
       "\n",
       "    .dataframe tbody tr th {\n",
       "        vertical-align: top;\n",
       "    }\n",
       "\n",
       "    .dataframe thead th {\n",
       "        text-align: right;\n",
       "    }\n",
       "</style>\n",
       "<table border=\"1\" class=\"dataframe\">\n",
       "  <thead>\n",
       "    <tr style=\"text-align: right;\">\n",
       "      <th></th>\n",
       "      <th>loan_amnt</th>\n",
       "      <th>term</th>\n",
       "      <th>int_rate</th>\n",
       "      <th>installment</th>\n",
       "      <th>emp_length</th>\n",
       "      <th>annual_inc</th>\n",
       "      <th>issue_d</th>\n",
       "      <th>dti</th>\n",
       "      <th>delinq_2yrs</th>\n",
       "      <th>fico_range_low</th>\n",
       "      <th>...</th>\n",
       "      <th>sub_grade_G4</th>\n",
       "      <th>sub_grade_G5</th>\n",
       "      <th>home_ownership_OWN</th>\n",
       "      <th>home_ownership_RENT</th>\n",
       "      <th>purpose_debt_consolidation</th>\n",
       "      <th>purpose_home_improvement</th>\n",
       "      <th>purpose_major_purchase</th>\n",
       "      <th>purpose_other</th>\n",
       "      <th>purpose_small_business</th>\n",
       "      <th>application_type_Joint App</th>\n",
       "    </tr>\n",
       "  </thead>\n",
       "  <tbody>\n",
       "    <tr>\n",
       "      <th>0</th>\n",
       "      <td>3600.0</td>\n",
       "      <td>36</td>\n",
       "      <td>13.99</td>\n",
       "      <td>123.03</td>\n",
       "      <td>10</td>\n",
       "      <td>55000.0</td>\n",
       "      <td>2015-12-01</td>\n",
       "      <td>5.91</td>\n",
       "      <td>0.0</td>\n",
       "      <td>675.0</td>\n",
       "      <td>...</td>\n",
       "      <td>0</td>\n",
       "      <td>0</td>\n",
       "      <td>0</td>\n",
       "      <td>0</td>\n",
       "      <td>1</td>\n",
       "      <td>0</td>\n",
       "      <td>0</td>\n",
       "      <td>0</td>\n",
       "      <td>0</td>\n",
       "      <td>0</td>\n",
       "    </tr>\n",
       "    <tr>\n",
       "      <th>1</th>\n",
       "      <td>24700.0</td>\n",
       "      <td>36</td>\n",
       "      <td>11.99</td>\n",
       "      <td>820.28</td>\n",
       "      <td>10</td>\n",
       "      <td>65000.0</td>\n",
       "      <td>2015-12-01</td>\n",
       "      <td>16.06</td>\n",
       "      <td>1.0</td>\n",
       "      <td>715.0</td>\n",
       "      <td>...</td>\n",
       "      <td>0</td>\n",
       "      <td>0</td>\n",
       "      <td>0</td>\n",
       "      <td>0</td>\n",
       "      <td>0</td>\n",
       "      <td>0</td>\n",
       "      <td>0</td>\n",
       "      <td>0</td>\n",
       "      <td>1</td>\n",
       "      <td>0</td>\n",
       "    </tr>\n",
       "    <tr>\n",
       "      <th>2</th>\n",
       "      <td>20000.0</td>\n",
       "      <td>60</td>\n",
       "      <td>10.78</td>\n",
       "      <td>432.66</td>\n",
       "      <td>10</td>\n",
       "      <td>63000.0</td>\n",
       "      <td>2015-12-01</td>\n",
       "      <td>10.78</td>\n",
       "      <td>0.0</td>\n",
       "      <td>695.0</td>\n",
       "      <td>...</td>\n",
       "      <td>0</td>\n",
       "      <td>0</td>\n",
       "      <td>0</td>\n",
       "      <td>0</td>\n",
       "      <td>0</td>\n",
       "      <td>1</td>\n",
       "      <td>0</td>\n",
       "      <td>0</td>\n",
       "      <td>0</td>\n",
       "      <td>1</td>\n",
       "    </tr>\n",
       "    <tr>\n",
       "      <th>3</th>\n",
       "      <td>10400.0</td>\n",
       "      <td>60</td>\n",
       "      <td>22.45</td>\n",
       "      <td>289.91</td>\n",
       "      <td>3</td>\n",
       "      <td>104433.0</td>\n",
       "      <td>2015-12-01</td>\n",
       "      <td>25.37</td>\n",
       "      <td>1.0</td>\n",
       "      <td>695.0</td>\n",
       "      <td>...</td>\n",
       "      <td>0</td>\n",
       "      <td>0</td>\n",
       "      <td>0</td>\n",
       "      <td>0</td>\n",
       "      <td>0</td>\n",
       "      <td>0</td>\n",
       "      <td>1</td>\n",
       "      <td>0</td>\n",
       "      <td>0</td>\n",
       "      <td>0</td>\n",
       "    </tr>\n",
       "    <tr>\n",
       "      <th>4</th>\n",
       "      <td>11950.0</td>\n",
       "      <td>36</td>\n",
       "      <td>13.44</td>\n",
       "      <td>405.18</td>\n",
       "      <td>4</td>\n",
       "      <td>34000.0</td>\n",
       "      <td>2015-12-01</td>\n",
       "      <td>10.20</td>\n",
       "      <td>0.0</td>\n",
       "      <td>690.0</td>\n",
       "      <td>...</td>\n",
       "      <td>0</td>\n",
       "      <td>0</td>\n",
       "      <td>0</td>\n",
       "      <td>1</td>\n",
       "      <td>1</td>\n",
       "      <td>0</td>\n",
       "      <td>0</td>\n",
       "      <td>0</td>\n",
       "      <td>0</td>\n",
       "      <td>0</td>\n",
       "    </tr>\n",
       "  </tbody>\n",
       "</table>\n",
       "<p>5 rows × 88 columns</p>\n",
       "</div>"
      ],
      "text/plain": [
       "   loan_amnt  term  int_rate  installment  emp_length  annual_inc    issue_d  \\\n",
       "0     3600.0    36     13.99       123.03          10     55000.0 2015-12-01   \n",
       "1    24700.0    36     11.99       820.28          10     65000.0 2015-12-01   \n",
       "2    20000.0    60     10.78       432.66          10     63000.0 2015-12-01   \n",
       "3    10400.0    60     22.45       289.91           3    104433.0 2015-12-01   \n",
       "4    11950.0    36     13.44       405.18           4     34000.0 2015-12-01   \n",
       "\n",
       "     dti  delinq_2yrs  fico_range_low  ...  sub_grade_G4  sub_grade_G5  \\\n",
       "0   5.91          0.0           675.0  ...             0             0   \n",
       "1  16.06          1.0           715.0  ...             0             0   \n",
       "2  10.78          0.0           695.0  ...             0             0   \n",
       "3  25.37          1.0           695.0  ...             0             0   \n",
       "4  10.20          0.0           690.0  ...             0             0   \n",
       "\n",
       "   home_ownership_OWN  home_ownership_RENT  purpose_debt_consolidation  \\\n",
       "0                   0                    0                           1   \n",
       "1                   0                    0                           0   \n",
       "2                   0                    0                           0   \n",
       "3                   0                    0                           0   \n",
       "4                   0                    1                           1   \n",
       "\n",
       "   purpose_home_improvement  purpose_major_purchase  purpose_other  \\\n",
       "0                         0                       0              0   \n",
       "1                         0                       0              0   \n",
       "2                         1                       0              0   \n",
       "3                         0                       1              0   \n",
       "4                         0                       0              0   \n",
       "\n",
       "   purpose_small_business  application_type_Joint App  \n",
       "0                       0                           0  \n",
       "1                       1                           0  \n",
       "2                       0                           1  \n",
       "3                       0                           0  \n",
       "4                       0                           0  \n",
       "\n",
       "[5 rows x 88 columns]"
      ]
     },
     "execution_count": 16,
     "metadata": {},
     "output_type": "execute_result"
    }
   ],
   "source": [
    "df_dummies.head()"
   ]
  },
  {
   "cell_type": "code",
   "execution_count": 17,
   "metadata": {},
   "outputs": [
    {
     "name": "stdout",
     "output_type": "stream",
     "text": [
      "                             count          %\n",
      "mths_since_last_delinq      690126  50.390124\n",
      "mths_since_recent_inq       178574  13.038729\n",
      "mo_sin_old_il_acct          109109   7.966684\n",
      "pct_tl_nvr_dlq               70430   5.142505\n",
      "avg_cur_bal                  70299   5.132940\n",
      "mo_sin_rcnt_rev_tl_op        70277   5.131334\n",
      "num_rev_accts                70277   5.131334\n",
      "mo_sin_old_rev_tl_op         70277   5.131334\n",
      "mo_sin_rcnt_tl               70276   5.131261\n",
      "num_tl_op_past_12m           70276   5.131261\n",
      "num_op_rev_tl                70276   5.131261\n",
      "num_il_tl                    70276   5.131261\n",
      "num_bc_tl                    70276   5.131261\n",
      "num_actv_rev_tl              70276   5.131261\n",
      "num_actv_bc_tl               70276   5.131261\n",
      "num_accts_ever_120_pd        70276   5.131261\n",
      "total_il_high_credit_limit   70276   5.131261\n",
      "total_rev_hi_lim             70276   5.131261\n",
      "tot_cur_bal                  70276   5.131261\n",
      "bc_util                      64983   4.744788\n",
      "percent_bc_gt_75             64617   4.718064\n",
      "bc_open_to_buy               64204   4.687908\n",
      "mths_since_recent_bc         63266   4.619420\n",
      "num_bc_sats                  58590   4.277998\n",
      "acc_open_past_24mths         50030   3.652982\n",
      "mort_acc                     50030   3.652982\n",
      "total_bc_limit               50030   3.652982\n",
      "total_bal_ex_mort            50030   3.652982\n",
      "revol_util                     924   0.067467\n",
      "dti                            398   0.029060\n",
      "inq_last_6mths                  30   0.002190\n",
      "total_acc                       29   0.002117\n",
      "delinq_2yrs                     29   0.002117\n",
      "open_acc                        29   0.002117\n",
      "annual_inc                       4   0.000292\n"
     ]
    }
   ],
   "source": [
    "missing = pd.concat([df.isnull().sum(), 100 * df.isnull().mean()], axis=1)\n",
    "missing.columns=['count', '%']\n",
    "#missing.sort_values(by='count', ascending = False).head(10)\n",
    "print(missing[missing['%'] > 0].sort_values(by='count', ascending = False))"
   ]
  },
  {
   "cell_type": "code",
   "execution_count": 18,
   "metadata": {},
   "outputs": [
    {
     "data": {
      "text/plain": [
       "35"
      ]
     },
     "execution_count": 18,
     "metadata": {},
     "output_type": "execute_result"
    }
   ],
   "source": [
    "missinglist = missing[missing['%'] > 0].sort_values(by='count', ascending = False).index.tolist()\n",
    "len(missinglist)"
   ]
  },
  {
   "cell_type": "code",
   "execution_count": 19,
   "metadata": {},
   "outputs": [],
   "source": [
    "nunique = pd.DataFrame(df.nunique().sort_values(ascending = False))\n",
    "nunique.columns=['count']"
   ]
  },
  {
   "cell_type": "code",
   "execution_count": 20,
   "metadata": {},
   "outputs": [
    {
     "data": {
      "text/html": [
       "<div>\n",
       "<style scoped>\n",
       "    .dataframe tbody tr th:only-of-type {\n",
       "        vertical-align: middle;\n",
       "    }\n",
       "\n",
       "    .dataframe tbody tr th {\n",
       "        vertical-align: top;\n",
       "    }\n",
       "\n",
       "    .dataframe thead th {\n",
       "        text-align: right;\n",
       "    }\n",
       "</style>\n",
       "<table border=\"1\" class=\"dataframe\">\n",
       "  <thead>\n",
       "    <tr style=\"text-align: right;\">\n",
       "      <th></th>\n",
       "      <th>count</th>\n",
       "    </tr>\n",
       "  </thead>\n",
       "  <tbody>\n",
       "    <tr>\n",
       "      <th>total_rec_int</th>\n",
       "      <td>523499</td>\n",
       "    </tr>\n",
       "    <tr>\n",
       "      <th>tot_cur_bal</th>\n",
       "      <td>402890</td>\n",
       "    </tr>\n",
       "    <tr>\n",
       "      <th>total_rec_prncp</th>\n",
       "      <td>220290</td>\n",
       "    </tr>\n",
       "    <tr>\n",
       "      <th>total_bal_ex_mort</th>\n",
       "      <td>178967</td>\n",
       "    </tr>\n",
       "    <tr>\n",
       "      <th>total_il_high_credit_limit</th>\n",
       "      <td>163471</td>\n",
       "    </tr>\n",
       "  </tbody>\n",
       "</table>\n",
       "</div>"
      ],
      "text/plain": [
       "                             count\n",
       "total_rec_int               523499\n",
       "tot_cur_bal                 402890\n",
       "total_rec_prncp             220290\n",
       "total_bal_ex_mort           178967\n",
       "total_il_high_credit_limit  163471"
      ]
     },
     "execution_count": 20,
     "metadata": {},
     "output_type": "execute_result"
    }
   ],
   "source": [
    "nunique.head()"
   ]
  },
  {
   "cell_type": "markdown",
   "metadata": {},
   "source": [
    "num variables are number of accounts/cards/etc. "
   ]
  },
  {
   "cell_type": "code",
   "execution_count": 21,
   "metadata": {},
   "outputs": [],
   "source": [
    "num_list = [x for x in missinglist if 'num' in x]"
   ]
  },
  {
   "cell_type": "code",
   "execution_count": 22,
   "metadata": {},
   "outputs": [
    {
     "data": {
      "text/plain": [
       "['num_rev_accts',\n",
       " 'num_tl_op_past_12m',\n",
       " 'num_op_rev_tl',\n",
       " 'num_il_tl',\n",
       " 'num_bc_tl',\n",
       " 'num_actv_rev_tl',\n",
       " 'num_actv_bc_tl',\n",
       " 'num_accts_ever_120_pd',\n",
       " 'num_bc_sats']"
      ]
     },
     "execution_count": 22,
     "metadata": {},
     "output_type": "execute_result"
    }
   ],
   "source": [
    "num_list"
   ]
  },
  {
   "cell_type": "markdown",
   "metadata": {},
   "source": [
    "mths_since_last_delinq and mths_since_recent_inq have the most missing values, all features are month-related list, we will use arbitrary values, -1 which doesnt exist in the dataset."
   ]
  },
  {
   "cell_type": "code",
   "execution_count": 23,
   "metadata": {},
   "outputs": [],
   "source": [
    "month_list = [x for x in missinglist if 'mo_' in x or 'mths' in x]"
   ]
  },
  {
   "cell_type": "code",
   "execution_count": 24,
   "metadata": {},
   "outputs": [
    {
     "data": {
      "text/plain": [
       "['mths_since_last_delinq',\n",
       " 'mths_since_recent_inq',\n",
       " 'mo_sin_old_il_acct',\n",
       " 'mo_sin_rcnt_rev_tl_op',\n",
       " 'mo_sin_old_rev_tl_op',\n",
       " 'mo_sin_rcnt_tl',\n",
       " 'mths_since_recent_bc',\n",
       " 'acc_open_past_24mths',\n",
       " 'inq_last_6mths']"
      ]
     },
     "execution_count": 24,
     "metadata": {},
     "output_type": "execute_result"
    }
   ],
   "source": [
    "month_list "
   ]
  },
  {
   "cell_type": "markdown",
   "metadata": {},
   "source": [
    "what features left in the missing list after extrat month, num_list"
   ]
  },
  {
   "cell_type": "code",
   "execution_count": 25,
   "metadata": {},
   "outputs": [],
   "source": [
    "miss_mo_nu = list(set(missinglist) - set(month_list) - set(num_list))"
   ]
  },
  {
   "cell_type": "markdown",
   "metadata": {},
   "source": [
    "miss_mo_nu"
   ]
  },
  {
   "cell_type": "markdown",
   "metadata": {},
   "source": [
    "Just noticed that some variables in the miss_mo_nu list, may contain ordinal type, we use unique values less than 100 to extract them"
   ]
  },
  {
   "cell_type": "code",
   "execution_count": 26,
   "metadata": {},
   "outputs": [],
   "source": [
    "uni100 = nunique[nunique['count'] < 100].index.tolist()"
   ]
  },
  {
   "cell_type": "markdown",
   "metadata": {},
   "source": [
    "There are 3 variables in the list 'miss_mo_nu' that will be combined with 'num' variables and then will be imputed with most frequent values"
   ]
  },
  {
   "cell_type": "code",
   "execution_count": 27,
   "metadata": {},
   "outputs": [
    {
     "data": {
      "text/plain": [
       "['open_acc', 'mort_acc', 'delinq_2yrs']"
      ]
     },
     "execution_count": 27,
     "metadata": {},
     "output_type": "execute_result"
    }
   ],
   "source": [
    "unilist = [x for x in uni100 if x in miss_mo_nu]\n",
    "unilist"
   ]
  },
  {
   "cell_type": "code",
   "execution_count": 28,
   "metadata": {},
   "outputs": [],
   "source": [
    "fre = num_list + unilist # fre list will be imputed with most frequent values, ordinal values, with 'average' seen values"
   ]
  },
  {
   "cell_type": "markdown",
   "metadata": {},
   "source": [
    "all other variables, we consider them as numeric variables, and use median values for imputation."
   ]
  },
  {
   "cell_type": "code",
   "execution_count": 29,
   "metadata": {},
   "outputs": [],
   "source": [
    "median_im = list(set(miss_mo_nu) - set(uni100))"
   ]
  },
  {
   "cell_type": "code",
   "execution_count": 30,
   "metadata": {},
   "outputs": [
    {
     "data": {
      "text/plain": [
       "['total_bc_limit',\n",
       " 'bc_util',\n",
       " 'avg_cur_bal',\n",
       " 'percent_bc_gt_75',\n",
       " 'tot_cur_bal',\n",
       " 'revol_util',\n",
       " 'total_bal_ex_mort',\n",
       " 'annual_inc',\n",
       " 'pct_tl_nvr_dlq',\n",
       " 'total_rev_hi_lim',\n",
       " 'total_il_high_credit_limit',\n",
       " 'total_acc',\n",
       " 'dti',\n",
       " 'bc_open_to_buy']"
      ]
     },
     "execution_count": 30,
     "metadata": {},
     "output_type": "execute_result"
    }
   ],
   "source": [
    "median_im"
   ]
  },
  {
   "cell_type": "markdown",
   "metadata": {},
   "source": [
    "Now, missinglist is divided into 3 parts with different ways for imputation"
   ]
  },
  {
   "cell_type": "code",
   "execution_count": 31,
   "metadata": {},
   "outputs": [
    {
     "data": {
      "text/plain": [
       "35"
      ]
     },
     "execution_count": 31,
     "metadata": {},
     "output_type": "execute_result"
    }
   ],
   "source": [
    "len(median_im)+len(fre)+len(month_list) #double check the length of 3 list, should equal to len(missinglist)"
   ]
  },
  {
   "cell_type": "markdown",
   "metadata": {},
   "source": [
    "Now, we find variables that have missing values and have less than 100 unique values, this is to prepare for imputing the NaN values with most frequenct values."
   ]
  },
  {
   "cell_type": "markdown",
   "metadata": {},
   "source": [
    "3. split training and test data "
   ]
  },
  {
   "cell_type": "markdown",
   "metadata": {},
   "source": [
    "before split the data, look at how they the default rate change in different years."
   ]
  },
  {
   "cell_type": "code",
   "execution_count": 32,
   "metadata": {},
   "outputs": [],
   "source": [
    "df['issue_d'] = pd.to_datetime(df['issue_d'], errors='coerce')"
   ]
  },
  {
   "cell_type": "code",
   "execution_count": 33,
   "metadata": {},
   "outputs": [
    {
     "data": {
      "image/png": "[encoded data removed]",
      "text/plain": [
       "<Figure size 432x288 with 1 Axes>"
      ]
     },
     "metadata": {
      "needs_background": "light"
     },
     "output_type": "display_data"
    }
   ],
   "source": [
    "df.groupby(pd.Grouper(key = 'issue_d', freq='A'))['Default'].mean().sort_index().plot.line(marker='o', lw = 2)\n",
    "plt.axvline(x='2017', ls = '--' , c = 'teal')\n",
    "figsize = (10, 8)"
   ]
  },
  {
   "cell_type": "markdown",
   "metadata": {},
   "source": [
    "There is a clear decrease of default after 2017, it was argued to be due to the fact that defaults are a stochastic\n",
    "cumulative process and that, with loans of 36–60-month term, most loans issued in that period did not have the time to default\n",
    "yet. Exlude the 2018 would help avoid bias."
   ]
  },
  {
   "cell_type": "code",
   "execution_count": 34,
   "metadata": {},
   "outputs": [
    {
     "name": "stdout",
     "output_type": "stream",
     "text": [
      "(1306027, 88)\n"
     ]
    }
   ],
   "source": [
    "#remove the year after 2017-12-31\n",
    "df_dummies = df_dummies.loc[df_dummies['issue_d'] < '2018-01-01']\n",
    "print(df_dummies.shape)"
   ]
  },
  {
   "cell_type": "code",
   "execution_count": 35,
   "metadata": {},
   "outputs": [],
   "source": [
    "#remove the 'issue_d'\n",
    "df_dummies.drop('issue_d', axis =1, inplace = True)"
   ]
  },
  {
   "cell_type": "code",
   "execution_count": 36,
   "metadata": {},
   "outputs": [],
   "source": [
    "#remove outlier in 'dti', dti has negative value, high debt to income (dti) ratio may be not reliable and consider as outlier. \n",
    "df_dummies = df_dummies.loc[(df_dummies['dti'] < df_dummies['dti'].quantile(0.99)) & (df_dummies['dti'] >= 0)]"
   ]
  },
  {
   "cell_type": "code",
   "execution_count": 37,
   "metadata": {},
   "outputs": [],
   "source": [
    "df_dummies=df_dummies[(df_dummies['dti']<=800) & (df_dummies['dti']>0)]"
   ]
  },
  {
   "cell_type": "code",
   "execution_count": 38,
   "metadata": {},
   "outputs": [
    {
     "data": {
      "text/plain": [
       "(1292027, 87)"
      ]
     },
     "execution_count": 38,
     "metadata": {},
     "output_type": "execute_result"
    }
   ],
   "source": [
    "df_dummies.shape"
   ]
  },
  {
   "cell_type": "code",
   "execution_count": 40,
   "metadata": {},
   "outputs": [],
   "source": [
    "#Split the train and test datasets\n",
    "\n",
    "X = df_dummies.drop('Default', axis=1)\n",
    "y = df_dummies['Default']\n",
    "\n",
    "from sklearn.model_selection import StratifiedShuffleSplit\n",
    "s = StratifiedShuffleSplit(n_splits=1, test_size=0.3, random_state=10)\n",
    "\n",
    "for train_index, test_index  in s.split(X, y):\n",
    "    X_train, X_test = X.iloc[train_index], X.iloc[test_index]\n",
    "    y_train, y_test = y.iloc[train_index], y.iloc[test_index]"
   ]
  },
  {
   "cell_type": "code",
   "execution_count": 41,
   "metadata": {},
   "outputs": [
    {
     "name": "stdout",
     "output_type": "stream",
     "text": [
      "Number of loans in traininng and test partition is:  904418 + 387609\n",
      "Numeber of loans in whole dataset:  1292027\n"
     ]
    }
   ],
   "source": [
    "print('Number of loans in traininng and test partition is: ', X_train.shape[0] , '+', X_test.shape[0])\n",
    "print('Numeber of loans in whole dataset: ', df_dummies.shape[0])"
   ]
  },
  {
   "cell_type": "code",
   "execution_count": 42,
   "metadata": {},
   "outputs": [
    {
     "data": {
      "text/plain": [
       "0.20902171341127665"
      ]
     },
     "execution_count": 42,
     "metadata": {},
     "output_type": "execute_result"
    }
   ],
   "source": [
    "sum(df_dummies.iloc[train_index].Default == 1)/len(train_index)"
   ]
  },
  {
   "cell_type": "code",
   "execution_count": 43,
   "metadata": {},
   "outputs": [
    {
     "data": {
      "text/plain": [
       "0.2090199143982725"
      ]
     },
     "execution_count": 43,
     "metadata": {},
     "output_type": "execute_result"
    }
   ],
   "source": [
    "sum(df_dummies.iloc[test_index].Default == 1)/len(test_index)"
   ]
  },
  {
   "cell_type": "markdown",
   "metadata": {},
   "source": [
    "stratified shuffle split led to train and test with same fraction of positive class, lets calculate the fractions."
   ]
  },
  {
   "cell_type": "markdown",
   "metadata": {},
   "source": [
    "Check for duplicated rows"
   ]
  },
  {
   "cell_type": "code",
   "execution_count": 44,
   "metadata": {},
   "outputs": [
    {
     "data": {
      "text/html": [
       "<div>\n",
       "<style scoped>\n",
       "    .dataframe tbody tr th:only-of-type {\n",
       "        vertical-align: middle;\n",
       "    }\n",
       "\n",
       "    .dataframe tbody tr th {\n",
       "        vertical-align: top;\n",
       "    }\n",
       "\n",
       "    .dataframe thead th {\n",
       "        text-align: right;\n",
       "    }\n",
       "</style>\n",
       "<table border=\"1\" class=\"dataframe\">\n",
       "  <thead>\n",
       "    <tr style=\"text-align: right;\">\n",
       "      <th></th>\n",
       "      <th>loan_amnt</th>\n",
       "      <th>term</th>\n",
       "      <th>int_rate</th>\n",
       "      <th>installment</th>\n",
       "      <th>sub_grade</th>\n",
       "      <th>emp_length</th>\n",
       "      <th>home_ownership</th>\n",
       "      <th>annual_inc</th>\n",
       "      <th>issue_d</th>\n",
       "      <th>purpose</th>\n",
       "      <th>...</th>\n",
       "      <th>num_il_tl</th>\n",
       "      <th>num_op_rev_tl</th>\n",
       "      <th>num_rev_accts</th>\n",
       "      <th>num_tl_op_past_12m</th>\n",
       "      <th>pct_tl_nvr_dlq</th>\n",
       "      <th>percent_bc_gt_75</th>\n",
       "      <th>total_bal_ex_mort</th>\n",
       "      <th>total_bc_limit</th>\n",
       "      <th>total_il_high_credit_limit</th>\n",
       "      <th>Default</th>\n",
       "    </tr>\n",
       "  </thead>\n",
       "  <tbody>\n",
       "  </tbody>\n",
       "</table>\n",
       "<p>0 rows × 50 columns</p>\n",
       "</div>"
      ],
      "text/plain": [
       "Empty DataFrame\n",
       "Columns: [loan_amnt, term, int_rate, installment, sub_grade, emp_length, home_ownership, annual_inc, issue_d, purpose, dti, delinq_2yrs, fico_range_low, inq_last_6mths, mths_since_last_delinq, open_acc, revol_bal, revol_util, total_acc, total_rec_prncp, total_rec_int, application_type, tot_cur_bal, total_rev_hi_lim, acc_open_past_24mths, avg_cur_bal, bc_open_to_buy, bc_util, mo_sin_old_il_acct, mo_sin_old_rev_tl_op, mo_sin_rcnt_rev_tl_op, mo_sin_rcnt_tl, mort_acc, mths_since_recent_bc, mths_since_recent_inq, num_accts_ever_120_pd, num_actv_bc_tl, num_actv_rev_tl, num_bc_sats, num_bc_tl, num_il_tl, num_op_rev_tl, num_rev_accts, num_tl_op_past_12m, pct_tl_nvr_dlq, percent_bc_gt_75, total_bal_ex_mort, total_bc_limit, total_il_high_credit_limit, Default]\n",
       "Index: []\n",
       "\n",
       "[0 rows x 50 columns]"
      ]
     },
     "execution_count": 44,
     "metadata": {},
     "output_type": "execute_result"
    }
   ],
   "source": [
    "duplicateRowsDF = df[df.duplicated()]\n",
    "duplicateRowsDF"
   ]
  },
  {
   "cell_type": "markdown",
   "metadata": {},
   "source": [
    "There are no duplicates"
   ]
  },
  {
   "cell_type": "markdown",
   "metadata": {},
   "source": [
    "fill missing values by most frequent imputation which is decided by earlier with countable unique values (ordinal varieibles)"
   ]
  },
  {
   "cell_type": "code",
   "execution_count": 46,
   "metadata": {},
   "outputs": [],
   "source": [
    "X_train[median_im] = X_train[median_im].fillna(X_train[median_im].median())\n",
    "X_test[median_im] = X_test[median_im].fillna(X_train[median_im].median())"
   ]
  },
  {
   "cell_type": "code",
   "execution_count": 47,
   "metadata": {},
   "outputs": [],
   "source": [
    "X_train[month_list] = X_train[month_list].fillna(-1)\n",
    "X_test[month_list] = X_test[month_list].fillna(-1)"
   ]
  },
  {
   "cell_type": "code",
   "execution_count": 48,
   "metadata": {},
   "outputs": [],
   "source": [
    "def fillna(col):\n",
    "    col.fillna(col.value_counts().index[0], inplace=True)\n",
    "    return col"
   ]
  },
  {
   "cell_type": "code",
   "execution_count": 49,
   "metadata": {},
   "outputs": [],
   "source": [
    "X_train = X_train.apply(lambda fre: fillna(fre))"
   ]
  },
  {
   "cell_type": "code",
   "execution_count": 50,
   "metadata": {},
   "outputs": [],
   "source": [
    "X_test = X_test.apply(lambda fre: fillna(fre))"
   ]
  },
  {
   "cell_type": "code",
   "execution_count": 51,
   "metadata": {},
   "outputs": [
    {
     "name": "stdout",
     "output_type": "stream",
     "text": [
      "Empty DataFrame\n",
      "Columns: [count, %]\n",
      "Index: []\n"
     ]
    }
   ],
   "source": [
    "missing = pd.concat([X_train.isnull().sum(), 100 * X_train.isnull().mean()], axis=1)\n",
    "missing.columns=['count', '%']\n",
    "#missing.sort_values(by='count', ascending = False).head(10)\n",
    "print(missing[missing['%'] > 0].sort_values(by='count', ascending = False))"
   ]
  },
  {
   "cell_type": "code",
   "execution_count": 52,
   "metadata": {},
   "outputs": [
    {
     "name": "stdout",
     "output_type": "stream",
     "text": [
      "null values  loan_amnt                     0\n",
      "term                          0\n",
      "int_rate                      0\n",
      "installment                   0\n",
      "emp_length                    0\n",
      "                             ..\n",
      "purpose_home_improvement      0\n",
      "purpose_major_purchase        0\n",
      "purpose_other                 0\n",
      "purpose_small_business        0\n",
      "application_type_Joint App    0\n",
      "Length: 86, dtype: int64\n"
     ]
    }
   ],
   "source": [
    "print('null values ', X_train.isnull().sum())"
   ]
  },
  {
   "cell_type": "code",
   "execution_count": 53,
   "metadata": {},
   "outputs": [
    {
     "name": "stdout",
     "output_type": "stream",
     "text": [
      "null values  loan_amnt                     0\n",
      "term                          0\n",
      "int_rate                      0\n",
      "installment                   0\n",
      "emp_length                    0\n",
      "                             ..\n",
      "purpose_home_improvement      0\n",
      "purpose_major_purchase        0\n",
      "purpose_other                 0\n",
      "purpose_small_business        0\n",
      "application_type_Joint App    0\n",
      "Length: 86, dtype: int64\n"
     ]
    }
   ],
   "source": [
    "print('null values ', X_test.isnull().sum())"
   ]
  },
  {
   "cell_type": "markdown",
   "metadata": {},
   "source": [
    "list 'im_median' and 'im_fre' is imputed with median and most frequent values, respectively, and null values is zero."
   ]
  },
  {
   "cell_type": "markdown",
   "metadata": {},
   "source": [
    "4. Scale the data, as the features measured in many different units, with numbers that vary by orders of magnitude, start off by scaling them to put them all on a consistent scale. The StandardScaler scales each feature to zero mean and unit variance."
   ]
  },
  {
   "cell_type": "code",
   "execution_count": 55,
   "metadata": {},
   "outputs": [
    {
     "data": {
      "image/png": "[encoded data removed]",
      "text/plain": [
       "<Figure size 1080x720 with 1 Axes>"
      ]
     },
     "metadata": {
      "needs_background": "light"
     },
     "output_type": "display_data"
    }
   ],
   "source": [
    "X_train[month_list].boxplot(figsize=(15, 10))\n",
    "plt.subplots_adjust(hspace=0.5)\n",
    "plt.tight_layout()"
   ]
  },
  {
   "cell_type": "code",
   "execution_count": 56,
   "metadata": {},
   "outputs": [
    {
     "data": {
      "image/png": "[encoded data removed]",
      "text/plain": [
       "<Figure size 1080x720 with 1 Axes>"
      ]
     },
     "metadata": {
      "needs_background": "light"
     },
     "output_type": "display_data"
    }
   ],
   "source": [
    "X_train[fre].boxplot(figsize=(15, 10))\n",
    "plt.subplots_adjust(hspace=0.5)\n",
    "plt.tight_layout()"
   ]
  },
  {
   "cell_type": "code",
   "execution_count": 57,
   "metadata": {},
   "outputs": [],
   "source": [
    "numeric_list = list(X_train.select_dtypes('float64').columns)\n",
    "scale_list = list(set(numeric_list) - set(fre) - set(month_list))"
   ]
  },
  {
   "cell_type": "code",
   "execution_count": 58,
   "metadata": {},
   "outputs": [
    {
     "data": {
      "text/plain": [
       "42"
      ]
     },
     "execution_count": 58,
     "metadata": {},
     "output_type": "execute_result"
    }
   ],
   "source": [
    "len(numeric_list)"
   ]
  },
  {
   "cell_type": "code",
   "execution_count": 59,
   "metadata": {},
   "outputs": [
    {
     "data": {
      "image/png": "[encoded data removed]",
      "text/plain": [
       "<Figure size 1080x720 with 25 Axes>"
      ]
     },
     "metadata": {
      "needs_background": "light"
     },
     "output_type": "display_data"
    }
   ],
   "source": [
    "X_train[scale_list].hist(figsize=(15, 10))\n",
    "plt.subplots_adjust(hspace=0.5)\n",
    "plt.tight_layout()"
   ]
  },
  {
   "cell_type": "markdown",
   "metadata": {},
   "source": [
    "some of the values are skewed data, we might compare non-log transform feature and log transform feature while evaluate the model performance."
   ]
  },
  {
   "cell_type": "code",
   "execution_count": 60,
   "metadata": {},
   "outputs": [],
   "source": [
    "#correct skewness in distributions, the methods does’t scale the data to a predetermined range\n",
    "\n",
    "from sklearn.preprocessing import PowerTransformer\n",
    "\n",
    "skew_tranform =['tot_cur_bal', 'total_il_high_credit_limit', 'total_rev_hi_lim',\n",
    "                'revol_bal', 'avg_cur_bal', 'bc_open_to_buy', 'total_bal_ex_mort', \n",
    "                'total_bc_limit', 'annual_inc']\n",
    "\n",
    "power_trans = PowerTransformer()\n",
    "\n",
    "X_train[skew_tranform] = power_trans.fit_transform(X_train[skew_tranform])\n",
    "X_test[skew_tranform] = power_trans.transform(X_test[skew_tranform])"
   ]
  },
  {
   "cell_type": "code",
   "execution_count": 61,
   "metadata": {},
   "outputs": [
    {
     "data": {
      "image/png": "[encoded data removed]",
      "text/plain": [
       "<Figure size 1080x720 with 9 Axes>"
      ]
     },
     "metadata": {
      "needs_background": "light"
     },
     "output_type": "display_data"
    }
   ],
   "source": [
    "X_train[skew_tranform].hist(figsize=(15, 10))\n",
    "plt.subplots_adjust(hspace=0.5)\n",
    "plt.tight_layout()"
   ]
  },
  {
   "cell_type": "code",
   "execution_count": 62,
   "metadata": {},
   "outputs": [
    {
     "data": {
      "text/plain": [
       "['bc_util',\n",
       " 'tot_cur_bal',\n",
       " 'total_bal_ex_mort',\n",
       " 'annual_inc',\n",
       " 'int_rate',\n",
       " 'pct_tl_nvr_dlq',\n",
       " 'total_rev_hi_lim',\n",
       " 'total_acc',\n",
       " 'dti',\n",
       " 'total_bc_limit',\n",
       " 'fico_range_low',\n",
       " 'avg_cur_bal',\n",
       " 'total_rec_int',\n",
       " 'total_il_high_credit_limit',\n",
       " 'bc_open_to_buy',\n",
       " 'installment',\n",
       " 'revol_bal',\n",
       " 'percent_bc_gt_75',\n",
       " 'revol_util',\n",
       " 'loan_amnt',\n",
       " 'total_rec_prncp']"
      ]
     },
     "execution_count": 62,
     "metadata": {},
     "output_type": "execute_result"
    }
   ],
   "source": [
    "scale_list #scale list include skew_transform list."
   ]
  },
  {
   "cell_type": "code",
   "execution_count": 63,
   "metadata": {},
   "outputs": [],
   "source": [
    "scaler = StandardScaler()\n",
    "X_train[scale_list] = scaler.fit_transform(X_train[scale_list])\n",
    "X_test[scale_list] = scaler.transform(X_test[scale_list])"
   ]
  },
  {
   "cell_type": "code",
   "execution_count": 64,
   "metadata": {},
   "outputs": [
    {
     "data": {
      "text/html": [
       "<div>\n",
       "<style scoped>\n",
       "    .dataframe tbody tr th:only-of-type {\n",
       "        vertical-align: middle;\n",
       "    }\n",
       "\n",
       "    .dataframe tbody tr th {\n",
       "        vertical-align: top;\n",
       "    }\n",
       "\n",
       "    .dataframe thead th {\n",
       "        text-align: right;\n",
       "    }\n",
       "</style>\n",
       "<table border=\"1\" class=\"dataframe\">\n",
       "  <thead>\n",
       "    <tr style=\"text-align: right;\">\n",
       "      <th></th>\n",
       "      <th>loan_amnt</th>\n",
       "      <th>term</th>\n",
       "      <th>int_rate</th>\n",
       "      <th>installment</th>\n",
       "      <th>emp_length</th>\n",
       "      <th>annual_inc</th>\n",
       "      <th>dti</th>\n",
       "      <th>delinq_2yrs</th>\n",
       "      <th>fico_range_low</th>\n",
       "      <th>inq_last_6mths</th>\n",
       "      <th>...</th>\n",
       "      <th>sub_grade_G4</th>\n",
       "      <th>sub_grade_G5</th>\n",
       "      <th>home_ownership_OWN</th>\n",
       "      <th>home_ownership_RENT</th>\n",
       "      <th>purpose_debt_consolidation</th>\n",
       "      <th>purpose_home_improvement</th>\n",
       "      <th>purpose_major_purchase</th>\n",
       "      <th>purpose_other</th>\n",
       "      <th>purpose_small_business</th>\n",
       "      <th>application_type_Joint App</th>\n",
       "    </tr>\n",
       "  </thead>\n",
       "  <tbody>\n",
       "    <tr>\n",
       "      <th>1025955</th>\n",
       "      <td>2.377347</td>\n",
       "      <td>60</td>\n",
       "      <td>0.637797</td>\n",
       "      <td>1.605705</td>\n",
       "      <td>10</td>\n",
       "      <td>0.804924</td>\n",
       "      <td>-0.309434</td>\n",
       "      <td>0.0</td>\n",
       "      <td>1.093809</td>\n",
       "      <td>0.0</td>\n",
       "      <td>...</td>\n",
       "      <td>0</td>\n",
       "      <td>0</td>\n",
       "      <td>1</td>\n",
       "      <td>0</td>\n",
       "      <td>1</td>\n",
       "      <td>0</td>\n",
       "      <td>0</td>\n",
       "      <td>0</td>\n",
       "      <td>0</td>\n",
       "      <td>0</td>\n",
       "    </tr>\n",
       "    <tr>\n",
       "      <th>948884</th>\n",
       "      <td>0.068061</td>\n",
       "      <td>36</td>\n",
       "      <td>-1.213652</td>\n",
       "      <td>0.110469</td>\n",
       "      <td>5</td>\n",
       "      <td>0.614281</td>\n",
       "      <td>-0.616066</td>\n",
       "      <td>0.0</td>\n",
       "      <td>2.206675</td>\n",
       "      <td>0.0</td>\n",
       "      <td>...</td>\n",
       "      <td>0</td>\n",
       "      <td>0</td>\n",
       "      <td>0</td>\n",
       "      <td>0</td>\n",
       "      <td>0</td>\n",
       "      <td>1</td>\n",
       "      <td>0</td>\n",
       "      <td>0</td>\n",
       "      <td>0</td>\n",
       "      <td>0</td>\n",
       "    </tr>\n",
       "    <tr>\n",
       "      <th>833990</th>\n",
       "      <td>1.569097</td>\n",
       "      <td>36</td>\n",
       "      <td>-0.155681</td>\n",
       "      <td>1.916834</td>\n",
       "      <td>10</td>\n",
       "      <td>1.880772</td>\n",
       "      <td>0.145017</td>\n",
       "      <td>1.0</td>\n",
       "      <td>-0.972941</td>\n",
       "      <td>2.0</td>\n",
       "      <td>...</td>\n",
       "      <td>0</td>\n",
       "      <td>0</td>\n",
       "      <td>0</td>\n",
       "      <td>0</td>\n",
       "      <td>0</td>\n",
       "      <td>0</td>\n",
       "      <td>0</td>\n",
       "      <td>0</td>\n",
       "      <td>0</td>\n",
       "      <td>0</td>\n",
       "    </tr>\n",
       "    <tr>\n",
       "      <th>865699</th>\n",
       "      <td>-0.930706</td>\n",
       "      <td>36</td>\n",
       "      <td>1.431276</td>\n",
       "      <td>-0.775612</td>\n",
       "      <td>9</td>\n",
       "      <td>-0.918663</td>\n",
       "      <td>-1.674007</td>\n",
       "      <td>2.0</td>\n",
       "      <td>-0.813960</td>\n",
       "      <td>0.0</td>\n",
       "      <td>...</td>\n",
       "      <td>0</td>\n",
       "      <td>0</td>\n",
       "      <td>0</td>\n",
       "      <td>1</td>\n",
       "      <td>1</td>\n",
       "      <td>0</td>\n",
       "      <td>0</td>\n",
       "      <td>0</td>\n",
       "      <td>0</td>\n",
       "      <td>0</td>\n",
       "    </tr>\n",
       "    <tr>\n",
       "      <th>58997</th>\n",
       "      <td>-1.086583</td>\n",
       "      <td>36</td>\n",
       "      <td>-0.009681</td>\n",
       "      <td>-1.033286</td>\n",
       "      <td>10</td>\n",
       "      <td>-1.182597</td>\n",
       "      <td>0.312382</td>\n",
       "      <td>0.0</td>\n",
       "      <td>0.934828</td>\n",
       "      <td>2.0</td>\n",
       "      <td>...</td>\n",
       "      <td>0</td>\n",
       "      <td>0</td>\n",
       "      <td>0</td>\n",
       "      <td>0</td>\n",
       "      <td>1</td>\n",
       "      <td>0</td>\n",
       "      <td>0</td>\n",
       "      <td>0</td>\n",
       "      <td>0</td>\n",
       "      <td>0</td>\n",
       "    </tr>\n",
       "  </tbody>\n",
       "</table>\n",
       "<p>5 rows × 86 columns</p>\n",
       "</div>"
      ],
      "text/plain": [
       "         loan_amnt  term  int_rate  installment  emp_length  annual_inc  \\\n",
       "1025955   2.377347    60  0.637797     1.605705          10    0.804924   \n",
       "948884    0.068061    36 -1.213652     0.110469           5    0.614281   \n",
       "833990    1.569097    36 -0.155681     1.916834          10    1.880772   \n",
       "865699   -0.930706    36  1.431276    -0.775612           9   -0.918663   \n",
       "58997    -1.086583    36 -0.009681    -1.033286          10   -1.182597   \n",
       "\n",
       "              dti  delinq_2yrs  fico_range_low  inq_last_6mths  ...  \\\n",
       "1025955 -0.309434          0.0        1.093809             0.0  ...   \n",
       "948884  -0.616066          0.0        2.206675             0.0  ...   \n",
       "833990   0.145017          1.0       -0.972941             2.0  ...   \n",
       "865699  -1.674007          2.0       -0.813960             0.0  ...   \n",
       "58997    0.312382          0.0        0.934828             2.0  ...   \n",
       "\n",
       "         sub_grade_G4  sub_grade_G5  home_ownership_OWN  home_ownership_RENT  \\\n",
       "1025955             0             0                   1                    0   \n",
       "948884              0             0                   0                    0   \n",
       "833990              0             0                   0                    0   \n",
       "865699              0             0                   0                    1   \n",
       "58997               0             0                   0                    0   \n",
       "\n",
       "         purpose_debt_consolidation  purpose_home_improvement  \\\n",
       "1025955                           1                         0   \n",
       "948884                            0                         1   \n",
       "833990                            0                         0   \n",
       "865699                            1                         0   \n",
       "58997                             1                         0   \n",
       "\n",
       "         purpose_major_purchase  purpose_other  purpose_small_business  \\\n",
       "1025955                       0              0                       0   \n",
       "948884                        0              0                       0   \n",
       "833990                        0              0                       0   \n",
       "865699                        0              0                       0   \n",
       "58997                         0              0                       0   \n",
       "\n",
       "         application_type_Joint App  \n",
       "1025955                           0  \n",
       "948884                            0  \n",
       "833990                            0  \n",
       "865699                            0  \n",
       "58997                             0  \n",
       "\n",
       "[5 rows x 86 columns]"
      ]
     },
     "execution_count": 64,
     "metadata": {},
     "output_type": "execute_result"
    }
   ],
   "source": [
    "X_train.head()"
   ]
  },
  {
   "cell_type": "code",
   "execution_count": 65,
   "metadata": {},
   "outputs": [
    {
     "data": {
      "image/png": "[encoded data removed]",
      "text/plain": [
       "<Figure size 1080x720 with 25 Axes>"
      ]
     },
     "metadata": {
      "needs_background": "light"
     },
     "output_type": "display_data"
    }
   ],
   "source": [
    "X_train[scale_list].hist(figsize=(15, 10))\n",
    "plt.subplots_adjust(hspace=0.5)\n",
    "plt.tight_layout()"
   ]
  },
  {
   "cell_type": "code",
   "execution_count": 69,
   "metadata": {},
   "outputs": [],
   "source": [
    "#combine Training set back\n",
    "Train = pd.concat([X_train, y_train],axis=1)\n",
    "test = pd.concat([X_test, y_test],axis=1)"
   ]
  },
  {
   "cell_type": "code",
   "execution_count": 70,
   "metadata": {},
   "outputs": [],
   "source": [
    "compression_opts = dict(method='zip',\n",
    "                        archive_name='train_df2.csv')  \n",
    "Train.to_csv('train_df2.zip', index=False,\n",
    "          compression=compression_opts)  "
   ]
  },
  {
   "cell_type": "code",
   "execution_count": 71,
   "metadata": {},
   "outputs": [],
   "source": [
    "compression_opts = dict(method='zip',\n",
    "                        archive_name='test_df2.csv')  \n",
    "test.to_csv('test_df2.zip', index=False,\n",
    "          compression=compression_opts)  "
   ]
  },
  {
   "cell_type": "code",
   "execution_count": 72,
   "metadata": {},
   "outputs": [
    {
     "data": {
      "text/plain": [
       "(904418, 87)"
      ]
     },
     "execution_count": 72,
     "metadata": {},
     "output_type": "execute_result"
    }
   ],
   "source": [
    "Train.shape"
   ]
  },
  {
   "cell_type": "code",
   "execution_count": 73,
   "metadata": {},
   "outputs": [
    {
     "data": {
      "text/plain": [
       "(387609, 87)"
      ]
     },
     "execution_count": 73,
     "metadata": {},
     "output_type": "execute_result"
    }
   ],
   "source": [
    "test.shape"
   ]
  }
 ],
 "metadata": {
  "kernelspec": {
   "display_name": "Python 3",
   "language": "python",
   "name": "python3"
  },
  "language_info": {
   "codemirror_mode": {
    "name": "ipython",
    "version": 3
   },
   "file_extension": ".py",
   "mimetype": "text/x-python",
   "name": "python",
   "nbconvert_exporter": "python",
   "pygments_lexer": "ipython3",
   "version": "3.8.5"
  }
 },
 "nbformat": 4,
 "nbformat_minor": 4
}
