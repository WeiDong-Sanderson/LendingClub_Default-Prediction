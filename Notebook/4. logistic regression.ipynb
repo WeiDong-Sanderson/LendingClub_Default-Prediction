{
 "cells": [
  {
   "cell_type": "markdown",
   "metadata": {},
   "source": [
    "1. Loading models and Sampling: this notebook we will use logistic regression to predict likelihood of default."
   ]
  },
  {
   "cell_type": "code",
   "execution_count": 1,
   "metadata": {},
   "outputs": [],
   "source": [
    "from sklearn.linear_model import LogisticRegression\n",
    "from sklearn.model_selection import GridSearchCV\n",
    "from sklearn.model_selection import RepeatedStratifiedKFold\n",
    "import pandas as pd\n",
    "import numpy as np\n",
    "import matplotlib.pyplot as plt"
   ]
  },
  {
   "cell_type": "code",
   "execution_count": 2,
   "metadata": {},
   "outputs": [],
   "source": [
    "train = pd.read_csv(r'C:\\\\Users\\dongw\\OneDrive\\Documents\\2. Programming\\Springboard\\DS\\Lending Club Loan\\data\\train_df2.csv')\n",
    "test = pd.read_csv(r'C:\\\\Users\\dongw\\OneDrive\\Documents\\2. Programming\\Springboard\\DS\\Lending Club Loan\\data\\test_df2.csv')"
   ]
  },
  {
   "cell_type": "code",
   "execution_count": 3,
   "metadata": {},
   "outputs": [],
   "source": [
    "#separte X, y in training and test\n",
    "X_train = train.drop('Default', axis=1)\n",
    "y_train = train['Default']\n",
    "X_test = test.drop('Default', axis=1)\n",
    "y_test = test['Default']"
   ]
  },
  {
   "cell_type": "code",
   "execution_count": 4,
   "metadata": {},
   "outputs": [],
   "source": [
    "#feature 'totalR_rec_prncp'Principal received to date, will be dropped before proceeding, because it was found dominant \n",
    "# for contributing default, one reason is that as long as the principle received to date is not met the loan repay, it is highly\n",
    "# prone that the model believe there are very 'default' type.\n",
    "\n",
    "train.drop(columns=['total_rec_prncp', 'total_rec_int'], inplace = True)\n",
    "test.drop(columns=['total_rec_prncp', 'total_rec_int'], inplace = True)"
   ]
  },
  {
   "cell_type": "code",
   "execution_count": 5,
   "metadata": {},
   "outputs": [
    {
     "data": {
      "text/plain": [
       "0.2642572077581688"
      ]
     },
     "execution_count": 5,
     "metadata": {},
     "output_type": "execute_result"
    }
   ],
   "source": [
    "#check class number\n",
    "default = train[train.Default == 1]\n",
    "no_default = train[train.Default == 0]\n",
    "ratio = default.shape[0]/no_default.shape[0]\n",
    "ratio"
   ]
  },
  {
   "cell_type": "code",
   "execution_count": 6,
   "metadata": {},
   "outputs": [
    {
     "name": "stdout",
     "output_type": "stream",
     "text": [
      "(378086, 86) (904418, 86)\n"
     ]
    },
    {
     "data": {
      "text/plain": [
       "0    189043\n",
       "1    189043\n",
       "Name: Default, dtype: int64"
      ]
     },
     "execution_count": 6,
     "metadata": {},
     "output_type": "execute_result"
    }
   ],
   "source": [
    "#downsample the training data, to balance class labels\n",
    "\n",
    "from imblearn.under_sampling import RandomUnderSampler\n",
    "#sampling_strategy = 1\n",
    "under = RandomUnderSampler()\n",
    "X_dn, y_dn = under.fit_resample(X_train, y_train)\n",
    "print(X_dn.shape, X_train.shape)\n",
    "y_dn = pd.DataFrame(y_dn, columns = ['Default'])\n",
    "y_dn.Default.value_counts()"
   ]
  },
  {
   "cell_type": "code",
   "execution_count": 7,
   "metadata": {},
   "outputs": [],
   "source": [
    "#combine downsized X, y into one dataframe\n",
    "\n",
    "new_train = pd.concat([X_dn, y_dn],axis=1)"
   ]
  },
  {
   "cell_type": "code",
   "execution_count": 8,
   "metadata": {},
   "outputs": [],
   "source": [
    "#shuffle the data before creating the subsamples, with 0.1 fraction, after subsampling it is still chanlleging to run in local\n",
    "#I decided to run with 1/10 sample after downsampling \n",
    "\n",
    "new_train = new_train.sample(frac = 0.1, random_state=42)"
   ]
  },
  {
   "cell_type": "code",
   "execution_count": 9,
   "metadata": {},
   "outputs": [],
   "source": [
    "X_train = new_train.drop('Default', axis=1)\n",
    "y_train = new_train['Default']"
   ]
  },
  {
   "cell_type": "markdown",
   "metadata": {},
   "source": [
    "2. Logistic Regression "
   ]
  },
  {
   "cell_type": "code",
   "execution_count": 10,
   "metadata": {},
   "outputs": [
    {
     "name": "stdout",
     "output_type": "stream",
     "text": [
      "Wall time: 4min 56s\n"
     ]
    }
   ],
   "source": [
    "%%time\n",
    "#define the model and hyperparameters\n",
    "\n",
    "model = LogisticRegression(random_state=40)\n",
    "\n",
    "penalty = ['l1','l2']\n",
    "c_values = [100, 10, 1.0, 0.1]\n",
    "solvers = ['newton-cg','liblinear']\n",
    "\n",
    "# define grid search\n",
    "grid = dict(solver=solvers,\n",
    "            penalty=penalty,\n",
    "            C=c_values)\n",
    "\n",
    "cv = RepeatedStratifiedKFold(n_splits=3, n_repeats=2, random_state=1)\n",
    "\n",
    "grid_search = GridSearchCV(estimator=model, param_grid=grid, n_jobs=-1, cv=cv, scoring='average_precision',error_score=0)\n",
    "\n",
    "grid_result = grid_search.fit(X_train, y_train)"
   ]
  },
  {
   "cell_type": "code",
   "execution_count": 11,
   "metadata": {},
   "outputs": [
    {
     "name": "stdout",
     "output_type": "stream",
     "text": [
      "Best: 0.999302 using {'C': 1.0, 'penalty': 'l1', 'solver': 'liblinear'}\n",
      "0.000000 (0.000000) with: {'C': 100, 'penalty': 'l1', 'solver': 'newton-cg'}\n",
      "0.999271 (0.000151) with: {'C': 100, 'penalty': 'l1', 'solver': 'liblinear'}\n",
      "0.999279 (0.000154) with: {'C': 100, 'penalty': 'l2', 'solver': 'newton-cg'}\n",
      "0.999276 (0.000156) with: {'C': 100, 'penalty': 'l2', 'solver': 'liblinear'}\n",
      "0.000000 (0.000000) with: {'C': 10, 'penalty': 'l1', 'solver': 'newton-cg'}\n",
      "0.999289 (0.000160) with: {'C': 10, 'penalty': 'l1', 'solver': 'liblinear'}\n",
      "0.999188 (0.000165) with: {'C': 10, 'penalty': 'l2', 'solver': 'newton-cg'}\n",
      "0.999190 (0.000168) with: {'C': 10, 'penalty': 'l2', 'solver': 'liblinear'}\n",
      "0.000000 (0.000000) with: {'C': 1.0, 'penalty': 'l1', 'solver': 'newton-cg'}\n",
      "0.999302 (0.000196) with: {'C': 1.0, 'penalty': 'l1', 'solver': 'liblinear'}\n",
      "0.998876 (0.000189) with: {'C': 1.0, 'penalty': 'l2', 'solver': 'newton-cg'}\n",
      "0.998893 (0.000193) with: {'C': 1.0, 'penalty': 'l2', 'solver': 'liblinear'}\n",
      "0.000000 (0.000000) with: {'C': 0.1, 'penalty': 'l1', 'solver': 'newton-cg'}\n",
      "0.999128 (0.000209) with: {'C': 0.1, 'penalty': 'l1', 'solver': 'liblinear'}\n",
      "0.997995 (0.000202) with: {'C': 0.1, 'penalty': 'l2', 'solver': 'newton-cg'}\n",
      "0.997997 (0.000212) with: {'C': 0.1, 'penalty': 'l2', 'solver': 'liblinear'}\n"
     ]
    }
   ],
   "source": [
    "# summarize results\n",
    "print(\"Best: %f using %s\" % (grid_result.best_score_, grid_result.best_params_))\n",
    "means = grid_result.cv_results_['mean_test_score']\n",
    "stds = grid_result.cv_results_['std_test_score']\n",
    "params = grid_result.cv_results_['params']\n",
    "for mean, stdev, param in zip(means, stds, params):\n",
    "    print(\"%f (%f) with: %r\" % (mean, stdev, param))\n"
   ]
  },
  {
   "cell_type": "code",
   "execution_count": 15,
   "metadata": {},
   "outputs": [],
   "source": [
    "# model with best parameter\n",
    "\n",
    "lr = LogisticRegression(solver = 'liblinear', \n",
    "                        penalty='l1',\n",
    "                        C =1.0,\n",
    "                        random_state=40,)"
   ]
  },
  {
   "cell_type": "code",
   "execution_count": 16,
   "metadata": {},
   "outputs": [
    {
     "name": "stdout",
     "output_type": "stream",
     "text": [
      "Wall time: 20.9 s\n"
     ]
    }
   ],
   "source": [
    "%%time\n",
    "result = lr.fit(X_train, y_train)"
   ]
  },
  {
   "cell_type": "code",
   "execution_count": 17,
   "metadata": {},
   "outputs": [],
   "source": [
    "from sklearn import metrics\n",
    "from sklearn.metrics import roc_curve, auc, precision_recall_curve\n",
    "from sklearn.metrics import average_precision_score\n",
    "from sklearn.metrics import roc_auc_score\n",
    "\n",
    "def result(model, X_test, y_test, clf_name):\n",
    "    \"\"\" This function calculates different metrics to show the model's performance on both training and test data.\n",
    "    This functoin also shows the confusion matrix, and plots the ROC and PR curves.\n",
    "    \n",
    "    Parameters\n",
    "    ----------\n",
    "    model (dtype: sklearn.model_selection._search.GridSearchCV) : The classifier model\n",
    "    train_result (dtype: boolean): If YES, calculate results for train data\n",
    "    clf_name (dtype: str): Name of the classifier\n",
    "    \"\"\"    \n",
    "    y_pred_test = model.predict(X_test)\n",
    "    y_pred_test_prob = model.predict_proba(X_test)\n",
    "    y_score = model.predict_proba(X_test)[:, 1]\n",
    "    print(\"#####################\")\n",
    "    print(\"Test data\")\n",
    "    print(\"#####################\")\n",
    "    print(\"F1: \", metrics.f1_score(y_test, y_pred_test))\n",
    "    print(\"PR AUC: \", average_precision_score(y_test, y_score)) ##average_precision equal to PR AUC\n",
    "    print('ROC_AUC: ',roc_auc_score(y_test, y_score))\n",
    "    print(\"LogLoss: \", metrics.log_loss(y_test, y_pred_test_prob))\n",
    "    print(metrics.classification_report(y_test, y_pred_test))"
   ]
  },
  {
   "cell_type": "code",
   "execution_count": 18,
   "metadata": {},
   "outputs": [
    {
     "name": "stdout",
     "output_type": "stream",
     "text": [
      "#####################\n",
      "Test data\n",
      "#####################\n",
      "F1:  0.9915162008409598\n",
      "PR AUC:  0.9973777728188882\n",
      "ROC_AUC:  0.9991339716750893\n",
      "LogLoss:  0.03805296186476304\n",
      "              precision    recall  f1-score   support\n",
      "\n",
      "           0       1.00      1.00      1.00    306591\n",
      "           1       0.99      0.99      0.99     81018\n",
      "\n",
      "    accuracy                           1.00    387609\n",
      "   macro avg       1.00      0.99      0.99    387609\n",
      "weighted avg       1.00      1.00      1.00    387609\n",
      "\n"
     ]
    }
   ],
   "source": [
    "result(lr, X_test, y_test, clf_name=\"F1, PR AUC\")"
   ]
  },
  {
   "cell_type": "code",
   "execution_count": 19,
   "metadata": {},
   "outputs": [
    {
     "data": {
      "image/png": "[encoded data removed]",
      "text/plain": [
       "<Figure size 432x288 with 1 Axes>"
      ]
     },
     "metadata": {
      "needs_background": "light"
     },
     "output_type": "display_data"
    }
   ],
   "source": [
    "probs = grid_result.predict_proba(X_test)\n",
    "import matplotlib.pyplot as plt\n",
    "import scikitplot as skplt\n",
    "skplt.metrics.plot_roc(y_test, probs)\n",
    "plt.show()"
   ]
  },
  {
   "cell_type": "code",
   "execution_count": 20,
   "metadata": {},
   "outputs": [],
   "source": [
    "from sklearn.metrics import roc_curve\n",
    "from sklearn.metrics import RocCurveDisplay\n",
    "y_score = lr.decision_function(X_test)"
   ]
  },
  {
   "cell_type": "code",
   "execution_count": 23,
   "metadata": {},
   "outputs": [
    {
     "data": {
      "image/png": "[encoded data removed]",
      "text/plain": [
       "<Figure size 432x288 with 1 Axes>"
      ]
     },
     "metadata": {
      "needs_background": "light"
     },
     "output_type": "display_data"
    }
   ],
   "source": [
    "from sklearn.metrics import precision_recall_curve\n",
    "from sklearn.metrics import PrecisionRecallDisplay\n",
    "\n",
    "prec, recall, _ = precision_recall_curve(y_test, y_score,\n",
    "                                         pos_label=lr.classes_[1])\n",
    "pr_display = PrecisionRecallDisplay(precision=prec, recall=recall).plot()"
   ]
  }
 ],
 "metadata": {
  "kernelspec": {
   "display_name": "Python 3",
   "language": "python",
   "name": "python3"
  },
  "language_info": {
   "codemirror_mode": {
    "name": "ipython",
    "version": 3
   },
   "file_extension": ".py",
   "mimetype": "text/x-python",
   "name": "python",
   "nbconvert_exporter": "python",
   "pygments_lexer": "ipython3",
   "version": "3.8.5"
  }
 },
 "nbformat": 4,
 "nbformat_minor": 4
}
