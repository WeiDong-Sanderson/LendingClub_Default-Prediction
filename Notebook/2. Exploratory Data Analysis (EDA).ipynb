{
 "cells": [
  {
   "cell_type": "markdown",
   "metadata": {},
   "source": [
    "1. The data were collected from [Lending Club](https://www.lendingclub.com/) between 2007 and 2017. The dataset was downloaded from [Kaggle](https://www.kaggle.com/wordsforthewise/lending-club)."
   ]
  },
  {
   "cell_type": "markdown",
   "metadata": {},
   "source": [
    "**1. imports**"
   ]
  },
  {
   "cell_type": "code",
   "execution_count": 1,
   "metadata": {},
   "outputs": [],
   "source": [
    "#import required packages\n",
    "import pandas as pd\n",
    "import matplotlib.pyplot as plt\n",
    "%matplotlib inline\n",
    "import seaborn as sns\n",
    "import numpy as np\n",
    "# scipi is a library for statistical tests and visualizations \n",
    "from scipy import stats\n",
    "# random enables us to generate random numbers\n",
    "import random\n",
    "\n",
    "import warnings\n",
    "warnings.simplefilter(action='ignore', category=FutureWarning)\n",
    "warnings.simplefilter(action='ignore', category=DeprecationWarning)\n",
    "\n",
    "#set globally printing options\n",
    "pd.set_option('display.max_colwidth', 1000, 'display.max_columns', None, 'display.max_rows', None)\n",
    "\n",
    "#import os"
   ]
  },
  {
   "cell_type": "markdown",
   "metadata": {},
   "source": [
    "**2. Load the cleaned data**"
   ]
  },
  {
   "cell_type": "code",
   "execution_count": 2,
   "metadata": {},
   "outputs": [],
   "source": [
    "#merge = pd.read_csv(r'C:\\\\Users\\dongw\\OneDrive\\Documents\\2. Programming\\Springboard\\DS\\Lending Club Loan\\data\\df_merge_cleaned.csv')\n",
    "df = pd.read_csv(r'C:\\\\Users\\dongw\\OneDrive\\Documents\\2. Programming\\Springboard\\DS\\Lending Club Loan\\data\\df_acce_cleaned.csv')"
   ]
  },
  {
   "cell_type": "code",
   "execution_count": 3,
   "metadata": {},
   "outputs": [
    {
     "data": {
      "text/html": [
       "<div>\n",
       "<style scoped>\n",
       "    .dataframe tbody tr th:only-of-type {\n",
       "        vertical-align: middle;\n",
       "    }\n",
       "\n",
       "    .dataframe tbody tr th {\n",
       "        vertical-align: top;\n",
       "    }\n",
       "\n",
       "    .dataframe thead th {\n",
       "        text-align: right;\n",
       "    }\n",
       "</style>\n",
       "<table border=\"1\" class=\"dataframe\">\n",
       "  <thead>\n",
       "    <tr style=\"text-align: right;\">\n",
       "      <th></th>\n",
       "      <th>loan_amnt</th>\n",
       "      <th>term</th>\n",
       "      <th>int_rate</th>\n",
       "      <th>installment</th>\n",
       "      <th>grade</th>\n",
       "      <th>sub_grade</th>\n",
       "      <th>emp_length</th>\n",
       "      <th>home_ownership</th>\n",
       "      <th>annual_inc</th>\n",
       "      <th>issue_d</th>\n",
       "      <th>loan_status</th>\n",
       "      <th>purpose</th>\n",
       "      <th>addr_state</th>\n",
       "      <th>dti</th>\n",
       "      <th>delinq_2yrs</th>\n",
       "      <th>fico_range_low</th>\n",
       "      <th>fico_range_high</th>\n",
       "      <th>inq_last_6mths</th>\n",
       "      <th>mths_since_last_delinq</th>\n",
       "      <th>open_acc</th>\n",
       "      <th>revol_bal</th>\n",
       "      <th>revol_util</th>\n",
       "      <th>total_acc</th>\n",
       "      <th>total_rec_prncp</th>\n",
       "      <th>total_rec_int</th>\n",
       "      <th>application_type</th>\n",
       "      <th>tot_cur_bal</th>\n",
       "      <th>total_rev_hi_lim</th>\n",
       "      <th>acc_open_past_24mths</th>\n",
       "      <th>avg_cur_bal</th>\n",
       "      <th>bc_open_to_buy</th>\n",
       "      <th>bc_util</th>\n",
       "      <th>mo_sin_old_il_acct</th>\n",
       "      <th>mo_sin_old_rev_tl_op</th>\n",
       "      <th>mo_sin_rcnt_rev_tl_op</th>\n",
       "      <th>mo_sin_rcnt_tl</th>\n",
       "      <th>mort_acc</th>\n",
       "      <th>mths_since_recent_bc</th>\n",
       "      <th>mths_since_recent_inq</th>\n",
       "      <th>num_accts_ever_120_pd</th>\n",
       "      <th>num_actv_bc_tl</th>\n",
       "      <th>num_actv_rev_tl</th>\n",
       "      <th>num_bc_sats</th>\n",
       "      <th>num_bc_tl</th>\n",
       "      <th>num_il_tl</th>\n",
       "      <th>num_op_rev_tl</th>\n",
       "      <th>num_rev_accts</th>\n",
       "      <th>num_rev_tl_bal_gt_0</th>\n",
       "      <th>num_sats</th>\n",
       "      <th>num_tl_op_past_12m</th>\n",
       "      <th>pct_tl_nvr_dlq</th>\n",
       "      <th>percent_bc_gt_75</th>\n",
       "      <th>tot_hi_cred_lim</th>\n",
       "      <th>total_bal_ex_mort</th>\n",
       "      <th>total_bc_limit</th>\n",
       "      <th>total_il_high_credit_limit</th>\n",
       "    </tr>\n",
       "  </thead>\n",
       "  <tbody>\n",
       "    <tr>\n",
       "      <th>0</th>\n",
       "      <td>3600.0</td>\n",
       "      <td>36</td>\n",
       "      <td>13.99</td>\n",
       "      <td>123.03</td>\n",
       "      <td>C</td>\n",
       "      <td>C4</td>\n",
       "      <td>10</td>\n",
       "      <td>MORTGAGE</td>\n",
       "      <td>55000.0</td>\n",
       "      <td>2015-12-01</td>\n",
       "      <td>Fully Paid</td>\n",
       "      <td>debt_consolidation</td>\n",
       "      <td>PA</td>\n",
       "      <td>5.91</td>\n",
       "      <td>0.0</td>\n",
       "      <td>675.0</td>\n",
       "      <td>679.0</td>\n",
       "      <td>1.0</td>\n",
       "      <td>30.0</td>\n",
       "      <td>7.0</td>\n",
       "      <td>2765.0</td>\n",
       "      <td>29.7</td>\n",
       "      <td>13.0</td>\n",
       "      <td>3600.0</td>\n",
       "      <td>821.72</td>\n",
       "      <td>Individual</td>\n",
       "      <td>144904.0</td>\n",
       "      <td>9300.0</td>\n",
       "      <td>4.0</td>\n",
       "      <td>20701.0</td>\n",
       "      <td>1506.0</td>\n",
       "      <td>37.2</td>\n",
       "      <td>148.0</td>\n",
       "      <td>128.0</td>\n",
       "      <td>3.0</td>\n",
       "      <td>3.0</td>\n",
       "      <td>1.0</td>\n",
       "      <td>4.0</td>\n",
       "      <td>4.0</td>\n",
       "      <td>2.0</td>\n",
       "      <td>2.0</td>\n",
       "      <td>4.0</td>\n",
       "      <td>2.0</td>\n",
       "      <td>5.0</td>\n",
       "      <td>3.0</td>\n",
       "      <td>4.0</td>\n",
       "      <td>9.0</td>\n",
       "      <td>4.0</td>\n",
       "      <td>7.0</td>\n",
       "      <td>3.0</td>\n",
       "      <td>76.9</td>\n",
       "      <td>0.0</td>\n",
       "      <td>178050.0</td>\n",
       "      <td>7746.0</td>\n",
       "      <td>2400.0</td>\n",
       "      <td>13734.0</td>\n",
       "    </tr>\n",
       "    <tr>\n",
       "      <th>1</th>\n",
       "      <td>24700.0</td>\n",
       "      <td>36</td>\n",
       "      <td>11.99</td>\n",
       "      <td>820.28</td>\n",
       "      <td>C</td>\n",
       "      <td>C1</td>\n",
       "      <td>10</td>\n",
       "      <td>MORTGAGE</td>\n",
       "      <td>65000.0</td>\n",
       "      <td>2015-12-01</td>\n",
       "      <td>Fully Paid</td>\n",
       "      <td>small_business</td>\n",
       "      <td>SD</td>\n",
       "      <td>16.06</td>\n",
       "      <td>1.0</td>\n",
       "      <td>715.0</td>\n",
       "      <td>719.0</td>\n",
       "      <td>4.0</td>\n",
       "      <td>6.0</td>\n",
       "      <td>22.0</td>\n",
       "      <td>21470.0</td>\n",
       "      <td>19.2</td>\n",
       "      <td>38.0</td>\n",
       "      <td>24700.0</td>\n",
       "      <td>979.66</td>\n",
       "      <td>Individual</td>\n",
       "      <td>204396.0</td>\n",
       "      <td>111800.0</td>\n",
       "      <td>4.0</td>\n",
       "      <td>9733.0</td>\n",
       "      <td>57830.0</td>\n",
       "      <td>27.1</td>\n",
       "      <td>113.0</td>\n",
       "      <td>192.0</td>\n",
       "      <td>2.0</td>\n",
       "      <td>2.0</td>\n",
       "      <td>4.0</td>\n",
       "      <td>2.0</td>\n",
       "      <td>0.0</td>\n",
       "      <td>0.0</td>\n",
       "      <td>5.0</td>\n",
       "      <td>5.0</td>\n",
       "      <td>13.0</td>\n",
       "      <td>17.0</td>\n",
       "      <td>6.0</td>\n",
       "      <td>20.0</td>\n",
       "      <td>27.0</td>\n",
       "      <td>5.0</td>\n",
       "      <td>22.0</td>\n",
       "      <td>2.0</td>\n",
       "      <td>97.4</td>\n",
       "      <td>7.7</td>\n",
       "      <td>314017.0</td>\n",
       "      <td>39475.0</td>\n",
       "      <td>79300.0</td>\n",
       "      <td>24667.0</td>\n",
       "    </tr>\n",
       "    <tr>\n",
       "      <th>2</th>\n",
       "      <td>20000.0</td>\n",
       "      <td>60</td>\n",
       "      <td>10.78</td>\n",
       "      <td>432.66</td>\n",
       "      <td>B</td>\n",
       "      <td>B4</td>\n",
       "      <td>10</td>\n",
       "      <td>MORTGAGE</td>\n",
       "      <td>63000.0</td>\n",
       "      <td>2015-12-01</td>\n",
       "      <td>Fully Paid</td>\n",
       "      <td>home_improvement</td>\n",
       "      <td>IL</td>\n",
       "      <td>10.78</td>\n",
       "      <td>0.0</td>\n",
       "      <td>695.0</td>\n",
       "      <td>699.0</td>\n",
       "      <td>0.0</td>\n",
       "      <td>NaN</td>\n",
       "      <td>6.0</td>\n",
       "      <td>7869.0</td>\n",
       "      <td>56.2</td>\n",
       "      <td>18.0</td>\n",
       "      <td>20000.0</td>\n",
       "      <td>2705.92</td>\n",
       "      <td>Joint App</td>\n",
       "      <td>189699.0</td>\n",
       "      <td>14000.0</td>\n",
       "      <td>6.0</td>\n",
       "      <td>31617.0</td>\n",
       "      <td>2737.0</td>\n",
       "      <td>55.9</td>\n",
       "      <td>125.0</td>\n",
       "      <td>184.0</td>\n",
       "      <td>14.0</td>\n",
       "      <td>14.0</td>\n",
       "      <td>5.0</td>\n",
       "      <td>101.0</td>\n",
       "      <td>10.0</td>\n",
       "      <td>0.0</td>\n",
       "      <td>2.0</td>\n",
       "      <td>3.0</td>\n",
       "      <td>2.0</td>\n",
       "      <td>4.0</td>\n",
       "      <td>6.0</td>\n",
       "      <td>4.0</td>\n",
       "      <td>7.0</td>\n",
       "      <td>3.0</td>\n",
       "      <td>6.0</td>\n",
       "      <td>0.0</td>\n",
       "      <td>100.0</td>\n",
       "      <td>50.0</td>\n",
       "      <td>218418.0</td>\n",
       "      <td>18696.0</td>\n",
       "      <td>6200.0</td>\n",
       "      <td>14877.0</td>\n",
       "    </tr>\n",
       "    <tr>\n",
       "      <th>3</th>\n",
       "      <td>10400.0</td>\n",
       "      <td>60</td>\n",
       "      <td>22.45</td>\n",
       "      <td>289.91</td>\n",
       "      <td>F</td>\n",
       "      <td>F1</td>\n",
       "      <td>3</td>\n",
       "      <td>MORTGAGE</td>\n",
       "      <td>104433.0</td>\n",
       "      <td>2015-12-01</td>\n",
       "      <td>Fully Paid</td>\n",
       "      <td>major_purchase</td>\n",
       "      <td>PA</td>\n",
       "      <td>25.37</td>\n",
       "      <td>1.0</td>\n",
       "      <td>695.0</td>\n",
       "      <td>699.0</td>\n",
       "      <td>3.0</td>\n",
       "      <td>12.0</td>\n",
       "      <td>12.0</td>\n",
       "      <td>21929.0</td>\n",
       "      <td>64.5</td>\n",
       "      <td>35.0</td>\n",
       "      <td>10400.0</td>\n",
       "      <td>1340.50</td>\n",
       "      <td>Individual</td>\n",
       "      <td>331730.0</td>\n",
       "      <td>34000.0</td>\n",
       "      <td>10.0</td>\n",
       "      <td>27644.0</td>\n",
       "      <td>4567.0</td>\n",
       "      <td>77.5</td>\n",
       "      <td>128.0</td>\n",
       "      <td>210.0</td>\n",
       "      <td>4.0</td>\n",
       "      <td>4.0</td>\n",
       "      <td>6.0</td>\n",
       "      <td>4.0</td>\n",
       "      <td>1.0</td>\n",
       "      <td>0.0</td>\n",
       "      <td>4.0</td>\n",
       "      <td>6.0</td>\n",
       "      <td>5.0</td>\n",
       "      <td>9.0</td>\n",
       "      <td>10.0</td>\n",
       "      <td>7.0</td>\n",
       "      <td>19.0</td>\n",
       "      <td>6.0</td>\n",
       "      <td>12.0</td>\n",
       "      <td>4.0</td>\n",
       "      <td>96.6</td>\n",
       "      <td>60.0</td>\n",
       "      <td>439570.0</td>\n",
       "      <td>95768.0</td>\n",
       "      <td>20300.0</td>\n",
       "      <td>88097.0</td>\n",
       "    </tr>\n",
       "    <tr>\n",
       "      <th>4</th>\n",
       "      <td>11950.0</td>\n",
       "      <td>36</td>\n",
       "      <td>13.44</td>\n",
       "      <td>405.18</td>\n",
       "      <td>C</td>\n",
       "      <td>C3</td>\n",
       "      <td>4</td>\n",
       "      <td>RENT</td>\n",
       "      <td>34000.0</td>\n",
       "      <td>2015-12-01</td>\n",
       "      <td>Fully Paid</td>\n",
       "      <td>debt_consolidation</td>\n",
       "      <td>GA</td>\n",
       "      <td>10.20</td>\n",
       "      <td>0.0</td>\n",
       "      <td>690.0</td>\n",
       "      <td>694.0</td>\n",
       "      <td>0.0</td>\n",
       "      <td>NaN</td>\n",
       "      <td>5.0</td>\n",
       "      <td>8822.0</td>\n",
       "      <td>68.4</td>\n",
       "      <td>6.0</td>\n",
       "      <td>11950.0</td>\n",
       "      <td>1758.95</td>\n",
       "      <td>Individual</td>\n",
       "      <td>12798.0</td>\n",
       "      <td>12900.0</td>\n",
       "      <td>0.0</td>\n",
       "      <td>2560.0</td>\n",
       "      <td>844.0</td>\n",
       "      <td>91.0</td>\n",
       "      <td>338.0</td>\n",
       "      <td>54.0</td>\n",
       "      <td>32.0</td>\n",
       "      <td>32.0</td>\n",
       "      <td>0.0</td>\n",
       "      <td>36.0</td>\n",
       "      <td>NaN</td>\n",
       "      <td>0.0</td>\n",
       "      <td>2.0</td>\n",
       "      <td>3.0</td>\n",
       "      <td>2.0</td>\n",
       "      <td>2.0</td>\n",
       "      <td>2.0</td>\n",
       "      <td>4.0</td>\n",
       "      <td>4.0</td>\n",
       "      <td>3.0</td>\n",
       "      <td>5.0</td>\n",
       "      <td>0.0</td>\n",
       "      <td>100.0</td>\n",
       "      <td>100.0</td>\n",
       "      <td>16900.0</td>\n",
       "      <td>12798.0</td>\n",
       "      <td>9400.0</td>\n",
       "      <td>4000.0</td>\n",
       "    </tr>\n",
       "  </tbody>\n",
       "</table>\n",
       "</div>"
      ],
      "text/plain": [
       "   loan_amnt  term  int_rate  installment grade sub_grade  emp_length  \\\n",
       "0     3600.0    36     13.99       123.03     C        C4          10   \n",
       "1    24700.0    36     11.99       820.28     C        C1          10   \n",
       "2    20000.0    60     10.78       432.66     B        B4          10   \n",
       "3    10400.0    60     22.45       289.91     F        F1           3   \n",
       "4    11950.0    36     13.44       405.18     C        C3           4   \n",
       "\n",
       "  home_ownership  annual_inc     issue_d loan_status             purpose  \\\n",
       "0       MORTGAGE     55000.0  2015-12-01  Fully Paid  debt_consolidation   \n",
       "1       MORTGAGE     65000.0  2015-12-01  Fully Paid      small_business   \n",
       "2       MORTGAGE     63000.0  2015-12-01  Fully Paid    home_improvement   \n",
       "3       MORTGAGE    104433.0  2015-12-01  Fully Paid      major_purchase   \n",
       "4           RENT     34000.0  2015-12-01  Fully Paid  debt_consolidation   \n",
       "\n",
       "  addr_state    dti  delinq_2yrs  fico_range_low  fico_range_high  \\\n",
       "0         PA   5.91          0.0           675.0            679.0   \n",
       "1         SD  16.06          1.0           715.0            719.0   \n",
       "2         IL  10.78          0.0           695.0            699.0   \n",
       "3         PA  25.37          1.0           695.0            699.0   \n",
       "4         GA  10.20          0.0           690.0            694.0   \n",
       "\n",
       "   inq_last_6mths  mths_since_last_delinq  open_acc  revol_bal  revol_util  \\\n",
       "0             1.0                    30.0       7.0     2765.0        29.7   \n",
       "1             4.0                     6.0      22.0    21470.0        19.2   \n",
       "2             0.0                     NaN       6.0     7869.0        56.2   \n",
       "3             3.0                    12.0      12.0    21929.0        64.5   \n",
       "4             0.0                     NaN       5.0     8822.0        68.4   \n",
       "\n",
       "   total_acc  total_rec_prncp  total_rec_int application_type  tot_cur_bal  \\\n",
       "0       13.0           3600.0         821.72       Individual     144904.0   \n",
       "1       38.0          24700.0         979.66       Individual     204396.0   \n",
       "2       18.0          20000.0        2705.92        Joint App     189699.0   \n",
       "3       35.0          10400.0        1340.50       Individual     331730.0   \n",
       "4        6.0          11950.0        1758.95       Individual      12798.0   \n",
       "\n",
       "   total_rev_hi_lim  acc_open_past_24mths  avg_cur_bal  bc_open_to_buy  \\\n",
       "0            9300.0                   4.0      20701.0          1506.0   \n",
       "1          111800.0                   4.0       9733.0         57830.0   \n",
       "2           14000.0                   6.0      31617.0          2737.0   \n",
       "3           34000.0                  10.0      27644.0          4567.0   \n",
       "4           12900.0                   0.0       2560.0           844.0   \n",
       "\n",
       "   bc_util  mo_sin_old_il_acct  mo_sin_old_rev_tl_op  mo_sin_rcnt_rev_tl_op  \\\n",
       "0     37.2               148.0                 128.0                    3.0   \n",
       "1     27.1               113.0                 192.0                    2.0   \n",
       "2     55.9               125.0                 184.0                   14.0   \n",
       "3     77.5               128.0                 210.0                    4.0   \n",
       "4     91.0               338.0                  54.0                   32.0   \n",
       "\n",
       "   mo_sin_rcnt_tl  mort_acc  mths_since_recent_bc  mths_since_recent_inq  \\\n",
       "0             3.0       1.0                   4.0                    4.0   \n",
       "1             2.0       4.0                   2.0                    0.0   \n",
       "2            14.0       5.0                 101.0                   10.0   \n",
       "3             4.0       6.0                   4.0                    1.0   \n",
       "4            32.0       0.0                  36.0                    NaN   \n",
       "\n",
       "   num_accts_ever_120_pd  num_actv_bc_tl  num_actv_rev_tl  num_bc_sats  \\\n",
       "0                    2.0             2.0              4.0          2.0   \n",
       "1                    0.0             5.0              5.0         13.0   \n",
       "2                    0.0             2.0              3.0          2.0   \n",
       "3                    0.0             4.0              6.0          5.0   \n",
       "4                    0.0             2.0              3.0          2.0   \n",
       "\n",
       "   num_bc_tl  num_il_tl  num_op_rev_tl  num_rev_accts  num_rev_tl_bal_gt_0  \\\n",
       "0        5.0        3.0            4.0            9.0                  4.0   \n",
       "1       17.0        6.0           20.0           27.0                  5.0   \n",
       "2        4.0        6.0            4.0            7.0                  3.0   \n",
       "3        9.0       10.0            7.0           19.0                  6.0   \n",
       "4        2.0        2.0            4.0            4.0                  3.0   \n",
       "\n",
       "   num_sats  num_tl_op_past_12m  pct_tl_nvr_dlq  percent_bc_gt_75  \\\n",
       "0       7.0                 3.0            76.9               0.0   \n",
       "1      22.0                 2.0            97.4               7.7   \n",
       "2       6.0                 0.0           100.0              50.0   \n",
       "3      12.0                 4.0            96.6              60.0   \n",
       "4       5.0                 0.0           100.0             100.0   \n",
       "\n",
       "   tot_hi_cred_lim  total_bal_ex_mort  total_bc_limit  \\\n",
       "0         178050.0             7746.0          2400.0   \n",
       "1         314017.0            39475.0         79300.0   \n",
       "2         218418.0            18696.0          6200.0   \n",
       "3         439570.0            95768.0         20300.0   \n",
       "4          16900.0            12798.0          9400.0   \n",
       "\n",
       "   total_il_high_credit_limit  \n",
       "0                     13734.0  \n",
       "1                     24667.0  \n",
       "2                     14877.0  \n",
       "3                     88097.0  \n",
       "4                      4000.0  "
      ]
     },
     "execution_count": 3,
     "metadata": {},
     "output_type": "execute_result"
    }
   ],
   "source": [
    "df.head()"
   ]
  },
  {
   "cell_type": "code",
   "execution_count": 4,
   "metadata": {},
   "outputs": [
    {
     "data": {
      "text/plain": [
       "(1369566, 56)"
      ]
     },
     "execution_count": 4,
     "metadata": {},
     "output_type": "execute_result"
    }
   ],
   "source": [
    "df.shape"
   ]
  },
  {
   "cell_type": "code",
   "execution_count": 5,
   "metadata": {},
   "outputs": [
    {
     "name": "stdout",
     "output_type": "stream",
     "text": [
      "<class 'pandas.core.frame.DataFrame'>\n",
      "RangeIndex: 1369566 entries, 0 to 1369565\n",
      "Data columns (total 56 columns):\n",
      " #   Column                      Non-Null Count    Dtype  \n",
      "---  ------                      --------------    -----  \n",
      " 0   loan_amnt                   1369566 non-null  float64\n",
      " 1   term                        1369566 non-null  int64  \n",
      " 2   int_rate                    1369566 non-null  float64\n",
      " 3   installment                 1369566 non-null  float64\n",
      " 4   grade                       1369566 non-null  object \n",
      " 5   sub_grade                   1369566 non-null  object \n",
      " 6   emp_length                  1369566 non-null  int64  \n",
      " 7   home_ownership              1369566 non-null  object \n",
      " 8   annual_inc                  1369562 non-null  float64\n",
      " 9   issue_d                     1369566 non-null  object \n",
      " 10  loan_status                 1369566 non-null  object \n",
      " 11  purpose                     1369566 non-null  object \n",
      " 12  addr_state                  1369566 non-null  object \n",
      " 13  dti                         1369168 non-null  float64\n",
      " 14  delinq_2yrs                 1369537 non-null  float64\n",
      " 15  fico_range_low              1369566 non-null  float64\n",
      " 16  fico_range_high             1369566 non-null  float64\n",
      " 17  inq_last_6mths              1369536 non-null  float64\n",
      " 18  mths_since_last_delinq      679440 non-null   float64\n",
      " 19  open_acc                    1369537 non-null  float64\n",
      " 20  revol_bal                   1369566 non-null  float64\n",
      " 21  revol_util                  1368642 non-null  float64\n",
      " 22  total_acc                   1369537 non-null  float64\n",
      " 23  total_rec_prncp             1369566 non-null  float64\n",
      " 24  total_rec_int               1369566 non-null  float64\n",
      " 25  application_type            1369566 non-null  object \n",
      " 26  tot_cur_bal                 1299290 non-null  float64\n",
      " 27  total_rev_hi_lim            1299290 non-null  float64\n",
      " 28  acc_open_past_24mths        1319536 non-null  float64\n",
      " 29  avg_cur_bal                 1299267 non-null  float64\n",
      " 30  bc_open_to_buy              1305362 non-null  float64\n",
      " 31  bc_util                     1304583 non-null  float64\n",
      " 32  mo_sin_old_il_acct          1260457 non-null  float64\n",
      " 33  mo_sin_old_rev_tl_op        1299289 non-null  float64\n",
      " 34  mo_sin_rcnt_rev_tl_op       1299289 non-null  float64\n",
      " 35  mo_sin_rcnt_tl              1299290 non-null  float64\n",
      " 36  mort_acc                    1319536 non-null  float64\n",
      " 37  mths_since_recent_bc        1306300 non-null  float64\n",
      " 38  mths_since_recent_inq       1190992 non-null  float64\n",
      " 39  num_accts_ever_120_pd       1299290 non-null  float64\n",
      " 40  num_actv_bc_tl              1299290 non-null  float64\n",
      " 41  num_actv_rev_tl             1299290 non-null  float64\n",
      " 42  num_bc_sats                 1310976 non-null  float64\n",
      " 43  num_bc_tl                   1299290 non-null  float64\n",
      " 44  num_il_tl                   1299290 non-null  float64\n",
      " 45  num_op_rev_tl               1299290 non-null  float64\n",
      " 46  num_rev_accts               1299289 non-null  float64\n",
      " 47  num_rev_tl_bal_gt_0         1299290 non-null  float64\n",
      " 48  num_sats                    1310976 non-null  float64\n",
      " 49  num_tl_op_past_12m          1299290 non-null  float64\n",
      " 50  pct_tl_nvr_dlq              1299136 non-null  float64\n",
      " 51  percent_bc_gt_75            1304949 non-null  float64\n",
      " 52  tot_hi_cred_lim             1299290 non-null  float64\n",
      " 53  total_bal_ex_mort           1319536 non-null  float64\n",
      " 54  total_bc_limit              1319536 non-null  float64\n",
      " 55  total_il_high_credit_limit  1299290 non-null  float64\n",
      "dtypes: float64(46), int64(2), object(8)\n",
      "memory usage: 585.1+ MB\n"
     ]
    }
   ],
   "source": [
    "df.info()\n",
    "#it is shown issue_d datatype is object, will convert to datetime, "
   ]
  },
  {
   "cell_type": "markdown",
   "metadata": {},
   "source": [
    "**3. check loan numbers and default rate under differenct categories**"
   ]
  },
  {
   "cell_type": "code",
   "execution_count": 6,
   "metadata": {},
   "outputs": [],
   "source": [
    "#convert issue date to date format,this feature is unknow before issues the loan, it actually not useful for predict default\n",
    "df.issue_d = pd.to_datetime(df.issue_d)"
   ]
  },
  {
   "cell_type": "code",
   "execution_count": 7,
   "metadata": {},
   "outputs": [
    {
     "data": {
      "image/png": "[encoded data removed]",
      "text/plain": [
       "<Figure size 432x288 with 1 Axes>"
      ]
     },
     "metadata": {
      "needs_background": "light"
     },
     "output_type": "display_data"
    }
   ],
   "source": [
    "_ = pd.value_counts(df['issue_d'].dt.year).sort_index().plot.bar(color='r')\n",
    "_ = plt.xlabel('Year')\n",
    "_ = plt.ylabel('Number of Loans Funded')\n",
    "_ = plt.title('Loans Funded per Year')"
   ]
  },
  {
   "cell_type": "markdown",
   "metadata": {},
   "source": [
    "From 2013 to 2017, the lending clud has issued much more loans than the other years, where 2015 has the peak."
   ]
  },
  {
   "cell_type": "code",
   "execution_count": 8,
   "metadata": {},
   "outputs": [],
   "source": [
    "# convert response variable loan_status to 0/1 variables, where 0 indicate fully paid, and 1 indicate Default.\n",
    "df['Default'] = df['loan_status'].map({'Fully Paid' : 0, 'Default': 1})"
   ]
  },
  {
   "cell_type": "markdown",
   "metadata": {},
   "source": [
    "we want to check how default and non-default look like group by different categories, they were also included in the Data wrangling notebook."
   ]
  },
  {
   "cell_type": "code",
   "execution_count": 9,
   "metadata": {},
   "outputs": [
    {
     "data": {
      "text/plain": [
       "Index(['grade', 'sub_grade', 'home_ownership', 'loan_status', 'purpose',\n",
       "       'addr_state', 'application_type'],\n",
       "      dtype='object')"
      ]
     },
     "execution_count": 9,
     "metadata": {},
     "output_type": "execute_result"
    }
   ],
   "source": [
    "#select the category variables\n",
    "df.select_dtypes('object').columns"
   ]
  },
  {
   "cell_type": "code",
   "execution_count": 10,
   "metadata": {},
   "outputs": [
    {
     "data": {
      "image/png": "[encoded data removed]",
      "text/plain": [
       "<Figure size 720x576 with 2 Axes>"
      ]
     },
     "metadata": {
      "needs_background": "light"
     },
     "output_type": "display_data"
    }
   ],
   "source": [
    "plt.figure(figsize=(10, 8))\n",
    "\n",
    "plt.subplot(2, 2, 1)\n",
    "sns.countplot(sorted(df.home_ownership))\n",
    "\n",
    "plt.subplot(2, 2, 2)\n",
    "df.groupby('home_ownership')['Default'].mean().plot.bar()\n",
    "\n",
    "plt.tight_layout()\n",
    "\n",
    "#Most of people have a house mortgage, but shows lower default rate"
   ]
  },
  {
   "cell_type": "code",
   "execution_count": 14,
   "metadata": {},
   "outputs": [
    {
     "data": {
      "image/png": "[encoded data removed]",
      "text/plain": [
       "<Figure size 720x576 with 2 Axes>"
      ]
     },
     "metadata": {
      "needs_background": "light"
     },
     "output_type": "display_data"
    }
   ],
   "source": [
    "plt.figure(figsize=(10, 8))\n",
    "\n",
    "plt.subplot(2, 2, 1)\n",
    "sns.countplot(df.application_type)\n",
    "\n",
    "plt.subplot(2, 2, 2)\n",
    "df.groupby('application_type')['Default'].mean().plot.bar()\n",
    "\n",
    "plt.tight_layout()\n",
    "\n",
    "#There are more individual application types but joint applications has higher default rates."
   ]
  },
  {
   "cell_type": "code",
   "execution_count": 15,
   "metadata": {},
   "outputs": [
    {
     "data": {
      "image/png": "[encoded data removed]",
      "text/plain": [
       "<Figure size 576x432 with 2 Axes>"
      ]
     },
     "metadata": {
      "needs_background": "light"
     },
     "output_type": "display_data"
    }
   ],
   "source": [
    "plt.figure(figsize=(8, 6))\n",
    "\n",
    "plt.subplot(2, 1, 1)\n",
    "sns.countplot(y = df.purpose)\n",
    "\n",
    "plt.subplot(2, 1, 2)\n",
    "df.groupby('purpose')['Default'].mean().plot.bar()\n",
    "\n",
    "plt.tight_layout()\n",
    "\n",
    "# debt_consolidation is the most common type, and small business shows a higher default rate"
   ]
  },
  {
   "cell_type": "code",
   "execution_count": 16,
   "metadata": {},
   "outputs": [
    {
     "data": {
      "image/png": "[encoded data removed]",
      "text/plain": [
       "<Figure size 864x720 with 2 Axes>"
      ]
     },
     "metadata": {
      "needs_background": "light"
     },
     "output_type": "display_data"
    }
   ],
   "source": [
    "plt.figure(figsize=(12, 10))\n",
    "\n",
    "plt.subplot(2, 1, 1)\n",
    "sns.countplot(sorted(df.addr_state))\n",
    "\n",
    "plt.subplot(2, 1, 2)\n",
    "df.groupby('addr_state')['Default'].mean().sort_index().plot.bar()\n",
    "\n",
    "plt.tight_layout()\n",
    "#CA has the most of loans funded, but doesnt have high default rate. "
   ]
  },
  {
   "cell_type": "code",
   "execution_count": 13,
   "metadata": {},
   "outputs": [
    {
     "data": {
      "image/png": "[encoded data removed]",
      "text/plain": [
       "<Figure size 576x432 with 2 Axes>"
      ]
     },
     "metadata": {
      "needs_background": "light"
     },
     "output_type": "display_data"
    }
   ],
   "source": [
    "plt.figure(figsize=(8, 6))\n",
    "\n",
    "plt.subplot(2, 1, 1)\n",
    "sns.countplot(sorted(df.grade))\n",
    "\n",
    "plt.subplot(2, 1, 2)\n",
    "df.groupby('grade')['Default'].mean().sort_index().plot.bar()\n",
    "\n",
    "plt.tight_layout()\n",
    "plt.show()\n",
    "\n",
    "#most of the grade are B and C, with the lower grade is, there are more likely default, there are 25 rank to decide base risk. \n",
    "#the rank calculation happens after the borrower applying the loan, so they might not be useful for model prediction."
   ]
  },
  {
   "cell_type": "markdown",
   "metadata": {},
   "source": [
    "**4. Multicollinearity**"
   ]
  },
  {
   "cell_type": "markdown",
   "metadata": {},
   "source": [
    "identify features that highly correlated, and avoid redundancy, and we attempt to use the most importance features "
   ]
  },
  {
   "cell_type": "code",
   "execution_count": 17,
   "metadata": {},
   "outputs": [
    {
     "data": {
      "text/plain": [
       "['grade',\n",
       " 'sub_grade',\n",
       " 'home_ownership',\n",
       " 'loan_status',\n",
       " 'purpose',\n",
       " 'addr_state',\n",
       " 'application_type']"
      ]
     },
     "execution_count": 17,
     "metadata": {},
     "output_type": "execute_result"
    }
   ],
   "source": [
    "df_cat = df.select_dtypes('object').columns.tolist()\n",
    "df_cat"
   ]
  },
  {
   "cell_type": "code",
   "execution_count": 18,
   "metadata": {},
   "outputs": [],
   "source": [
    "#discrete variables & datetime \n",
    "df_dis = ['issue_d', 'term', 'emp_length', 'Default', 'total_rec_prncp']"
   ]
  },
  {
   "cell_type": "code",
   "execution_count": 19,
   "metadata": {},
   "outputs": [],
   "source": [
    "# subset df with only numeric variables to calculate correlations\n",
    "non_nu = df_cat + df_dis\n",
    "df_nu = df [[c for c in df.columns if c not in non_nu]]"
   ]
  },
  {
   "cell_type": "code",
   "execution_count": 20,
   "metadata": {},
   "outputs": [
    {
     "data": {
      "text/html": [
       "<div>\n",
       "<style scoped>\n",
       "    .dataframe tbody tr th:only-of-type {\n",
       "        vertical-align: middle;\n",
       "    }\n",
       "\n",
       "    .dataframe tbody tr th {\n",
       "        vertical-align: top;\n",
       "    }\n",
       "\n",
       "    .dataframe thead th {\n",
       "        text-align: right;\n",
       "    }\n",
       "</style>\n",
       "<table border=\"1\" class=\"dataframe\">\n",
       "  <thead>\n",
       "    <tr style=\"text-align: right;\">\n",
       "      <th></th>\n",
       "      <th>loan_amnt</th>\n",
       "      <th>int_rate</th>\n",
       "      <th>installment</th>\n",
       "      <th>annual_inc</th>\n",
       "      <th>dti</th>\n",
       "      <th>delinq_2yrs</th>\n",
       "      <th>fico_range_low</th>\n",
       "      <th>fico_range_high</th>\n",
       "      <th>inq_last_6mths</th>\n",
       "      <th>mths_since_last_delinq</th>\n",
       "      <th>open_acc</th>\n",
       "      <th>revol_bal</th>\n",
       "      <th>revol_util</th>\n",
       "      <th>total_acc</th>\n",
       "      <th>total_rec_int</th>\n",
       "      <th>tot_cur_bal</th>\n",
       "      <th>total_rev_hi_lim</th>\n",
       "      <th>acc_open_past_24mths</th>\n",
       "      <th>avg_cur_bal</th>\n",
       "      <th>bc_open_to_buy</th>\n",
       "      <th>bc_util</th>\n",
       "      <th>mo_sin_old_il_acct</th>\n",
       "      <th>mo_sin_old_rev_tl_op</th>\n",
       "      <th>mo_sin_rcnt_rev_tl_op</th>\n",
       "      <th>mo_sin_rcnt_tl</th>\n",
       "      <th>mort_acc</th>\n",
       "      <th>mths_since_recent_bc</th>\n",
       "      <th>mths_since_recent_inq</th>\n",
       "      <th>num_accts_ever_120_pd</th>\n",
       "      <th>num_actv_bc_tl</th>\n",
       "      <th>num_actv_rev_tl</th>\n",
       "      <th>num_bc_sats</th>\n",
       "      <th>num_bc_tl</th>\n",
       "      <th>num_il_tl</th>\n",
       "      <th>num_op_rev_tl</th>\n",
       "      <th>num_rev_accts</th>\n",
       "      <th>num_rev_tl_bal_gt_0</th>\n",
       "      <th>num_sats</th>\n",
       "      <th>num_tl_op_past_12m</th>\n",
       "      <th>pct_tl_nvr_dlq</th>\n",
       "      <th>percent_bc_gt_75</th>\n",
       "      <th>tot_hi_cred_lim</th>\n",
       "      <th>total_bal_ex_mort</th>\n",
       "      <th>total_bc_limit</th>\n",
       "      <th>total_il_high_credit_limit</th>\n",
       "    </tr>\n",
       "  </thead>\n",
       "  <tbody>\n",
       "    <tr>\n",
       "      <th>loan_amnt</th>\n",
       "      <td>1.000000</td>\n",
       "      <td>0.142288</td>\n",
       "      <td>0.953082</td>\n",
       "      <td>0.309704</td>\n",
       "      <td>0.032266</td>\n",
       "      <td>-0.002373</td>\n",
       "      <td>0.101671</td>\n",
       "      <td>0.101671</td>\n",
       "      <td>-0.019272</td>\n",
       "      <td>-0.022286</td>\n",
       "      <td>0.185884</td>\n",
       "      <td>0.314827</td>\n",
       "      <td>0.106517</td>\n",
       "      <td>0.207959</td>\n",
       "      <td>0.625350</td>\n",
       "      <td>0.314061</td>\n",
       "      <td>0.313977</td>\n",
       "      <td>0.009850</td>\n",
       "      <td>0.229045</td>\n",
       "      <td>0.198687</td>\n",
       "      <td>0.051282</td>\n",
       "      <td>0.122838</td>\n",
       "      <td>0.163086</td>\n",
       "      <td>0.047103</td>\n",
       "      <td>0.024148</td>\n",
       "      <td>0.222800</td>\n",
       "      <td>0.031127</td>\n",
       "      <td>-0.000804</td>\n",
       "      <td>-0.050012</td>\n",
       "      <td>0.194699</td>\n",
       "      <td>0.151751</td>\n",
       "      <td>0.214244</td>\n",
       "      <td>0.196490</td>\n",
       "      <td>0.077965</td>\n",
       "      <td>0.166153</td>\n",
       "      <td>0.169798</td>\n",
       "      <td>0.151085</td>\n",
       "      <td>0.182592</td>\n",
       "      <td>-0.020170</td>\n",
       "      <td>0.088380</td>\n",
       "      <td>0.020534</td>\n",
       "      <td>0.334489</td>\n",
       "      <td>0.275585</td>\n",
       "      <td>0.371308</td>\n",
       "      <td>0.200281</td>\n",
       "    </tr>\n",
       "    <tr>\n",
       "      <th>int_rate</th>\n",
       "      <td>0.142288</td>\n",
       "      <td>1.000000</td>\n",
       "      <td>0.155344</td>\n",
       "      <td>-0.071455</td>\n",
       "      <td>0.146068</td>\n",
       "      <td>0.047943</td>\n",
       "      <td>-0.403531</td>\n",
       "      <td>-0.403528</td>\n",
       "      <td>0.209650</td>\n",
       "      <td>-0.029050</td>\n",
       "      <td>-0.004268</td>\n",
       "      <td>-0.028229</td>\n",
       "      <td>0.240696</td>\n",
       "      <td>-0.043141</td>\n",
       "      <td>0.404858</td>\n",
       "      <td>-0.084949</td>\n",
       "      <td>-0.161939</td>\n",
       "      <td>0.189410</td>\n",
       "      <td>-0.084150</td>\n",
       "      <td>-0.279752</td>\n",
       "      <td>0.251333</td>\n",
       "      <td>-0.071307</td>\n",
       "      <td>-0.138239</td>\n",
       "      <td>-0.106558</td>\n",
       "      <td>-0.127580</td>\n",
       "      <td>-0.084477</td>\n",
       "      <td>-0.084478</td>\n",
       "      <td>-0.167838</td>\n",
       "      <td>0.043068</td>\n",
       "      <td>0.022434</td>\n",
       "      <td>0.085433</td>\n",
       "      <td>-0.054220</td>\n",
       "      <td>-0.084570</td>\n",
       "      <td>0.011214</td>\n",
       "      <td>-0.009240</td>\n",
       "      <td>-0.057698</td>\n",
       "      <td>0.085264</td>\n",
       "      <td>-0.009760</td>\n",
       "      <td>0.206953</td>\n",
       "      <td>-0.063691</td>\n",
       "      <td>0.248452</td>\n",
       "      <td>-0.118580</td>\n",
       "      <td>0.004378</td>\n",
       "      <td>-0.228236</td>\n",
       "      <td>-0.002983</td>\n",
       "    </tr>\n",
       "    <tr>\n",
       "      <th>installment</th>\n",
       "      <td>0.953082</td>\n",
       "      <td>0.155344</td>\n",
       "      <td>1.000000</td>\n",
       "      <td>0.300604</td>\n",
       "      <td>0.036007</td>\n",
       "      <td>0.006925</td>\n",
       "      <td>0.051540</td>\n",
       "      <td>0.051539</td>\n",
       "      <td>0.002733</td>\n",
       "      <td>-0.028941</td>\n",
       "      <td>0.176241</td>\n",
       "      <td>0.303646</td>\n",
       "      <td>0.125192</td>\n",
       "      <td>0.184997</td>\n",
       "      <td>0.559727</td>\n",
       "      <td>0.283589</td>\n",
       "      <td>0.288899</td>\n",
       "      <td>0.023308</td>\n",
       "      <td>0.202886</td>\n",
       "      <td>0.165364</td>\n",
       "      <td>0.073348</td>\n",
       "      <td>0.101810</td>\n",
       "      <td>0.142956</td>\n",
       "      <td>0.033141</td>\n",
       "      <td>0.015108</td>\n",
       "      <td>0.189834</td>\n",
       "      <td>0.018222</td>\n",
       "      <td>-0.015001</td>\n",
       "      <td>-0.041419</td>\n",
       "      <td>0.197837</td>\n",
       "      <td>0.159249</td>\n",
       "      <td>0.206882</td>\n",
       "      <td>0.183646</td>\n",
       "      <td>0.061855</td>\n",
       "      <td>0.162045</td>\n",
       "      <td>0.157889</td>\n",
       "      <td>0.158397</td>\n",
       "      <td>0.171813</td>\n",
       "      <td>0.000124</td>\n",
       "      <td>0.070895</td>\n",
       "      <td>0.040161</td>\n",
       "      <td>0.301801</td>\n",
       "      <td>0.260305</td>\n",
       "      <td>0.339266</td>\n",
       "      <td>0.185527</td>\n",
       "    </tr>\n",
       "    <tr>\n",
       "      <th>annual_inc</th>\n",
       "      <td>0.309704</td>\n",
       "      <td>-0.071455</td>\n",
       "      <td>0.300604</td>\n",
       "      <td>1.000000</td>\n",
       "      <td>-0.138937</td>\n",
       "      <td>0.040756</td>\n",
       "      <td>0.070022</td>\n",
       "      <td>0.070022</td>\n",
       "      <td>0.031542</td>\n",
       "      <td>-0.040600</td>\n",
       "      <td>0.134694</td>\n",
       "      <td>0.284877</td>\n",
       "      <td>0.035482</td>\n",
       "      <td>0.175214</td>\n",
       "      <td>0.138044</td>\n",
       "      <td>0.395473</td>\n",
       "      <td>0.272829</td>\n",
       "      <td>0.056788</td>\n",
       "      <td>0.305553</td>\n",
       "      <td>0.157314</td>\n",
       "      <td>-0.003113</td>\n",
       "      <td>0.111451</td>\n",
       "      <td>0.129867</td>\n",
       "      <td>0.031857</td>\n",
       "      <td>-0.026053</td>\n",
       "      <td>0.212413</td>\n",
       "      <td>0.027114</td>\n",
       "      <td>-0.041409</td>\n",
       "      <td>0.016959</td>\n",
       "      <td>0.104043</td>\n",
       "      <td>0.072910</td>\n",
       "      <td>0.122042</td>\n",
       "      <td>0.126063</td>\n",
       "      <td>0.100816</td>\n",
       "      <td>0.078489</td>\n",
       "      <td>0.101622</td>\n",
       "      <td>0.071803</td>\n",
       "      <td>0.132018</td>\n",
       "      <td>0.052381</td>\n",
       "      <td>-0.007148</td>\n",
       "      <td>-0.016449</td>\n",
       "      <td>0.408622</td>\n",
       "      <td>0.314981</td>\n",
       "      <td>0.268167</td>\n",
       "      <td>0.261800</td>\n",
       "    </tr>\n",
       "    <tr>\n",
       "      <th>dti</th>\n",
       "      <td>0.032266</td>\n",
       "      <td>0.146068</td>\n",
       "      <td>0.036007</td>\n",
       "      <td>-0.138937</td>\n",
       "      <td>1.000000</td>\n",
       "      <td>-0.008010</td>\n",
       "      <td>-0.060179</td>\n",
       "      <td>-0.060181</td>\n",
       "      <td>-0.009492</td>\n",
       "      <td>0.008631</td>\n",
       "      <td>0.222317</td>\n",
       "      <td>0.107668</td>\n",
       "      <td>0.139436</td>\n",
       "      <td>0.171562</td>\n",
       "      <td>0.066513</td>\n",
       "      <td>0.005774</td>\n",
       "      <td>0.054343</td>\n",
       "      <td>0.118039</td>\n",
       "      <td>-0.084593</td>\n",
       "      <td>-0.058951</td>\n",
       "      <td>0.142585</td>\n",
       "      <td>0.035753</td>\n",
       "      <td>0.033443</td>\n",
       "      <td>-0.018578</td>\n",
       "      <td>-0.072994</td>\n",
       "      <td>-0.028703</td>\n",
       "      <td>-0.006491</td>\n",
       "      <td>-0.000460</td>\n",
       "      <td>-0.033445</td>\n",
       "      <td>0.126553</td>\n",
       "      <td>0.189443</td>\n",
       "      <td>0.078995</td>\n",
       "      <td>0.050379</td>\n",
       "      <td>0.172761</td>\n",
       "      <td>0.135692</td>\n",
       "      <td>0.098367</td>\n",
       "      <td>0.191549</td>\n",
       "      <td>0.215250</td>\n",
       "      <td>0.068989</td>\n",
       "      <td>0.072107</td>\n",
       "      <td>0.127605</td>\n",
       "      <td>0.015032</td>\n",
       "      <td>0.223639</td>\n",
       "      <td>0.026600</td>\n",
       "      <td>0.252266</td>\n",
       "    </tr>\n",
       "  </tbody>\n",
       "</table>\n",
       "</div>"
      ],
      "text/plain": [
       "             loan_amnt  int_rate  installment  annual_inc       dti  \\\n",
       "loan_amnt     1.000000  0.142288     0.953082    0.309704  0.032266   \n",
       "int_rate      0.142288  1.000000     0.155344   -0.071455  0.146068   \n",
       "installment   0.953082  0.155344     1.000000    0.300604  0.036007   \n",
       "annual_inc    0.309704 -0.071455     0.300604    1.000000 -0.138937   \n",
       "dti           0.032266  0.146068     0.036007   -0.138937  1.000000   \n",
       "\n",
       "             delinq_2yrs  fico_range_low  fico_range_high  inq_last_6mths  \\\n",
       "loan_amnt      -0.002373        0.101671         0.101671       -0.019272   \n",
       "int_rate        0.047943       -0.403531        -0.403528        0.209650   \n",
       "installment     0.006925        0.051540         0.051539        0.002733   \n",
       "annual_inc      0.040756        0.070022         0.070022        0.031542   \n",
       "dti            -0.008010       -0.060179        -0.060181       -0.009492   \n",
       "\n",
       "             mths_since_last_delinq  open_acc  revol_bal  revol_util  \\\n",
       "loan_amnt                 -0.022286  0.185884   0.314827    0.106517   \n",
       "int_rate                  -0.029050 -0.004268  -0.028229    0.240696   \n",
       "installment               -0.028941  0.176241   0.303646    0.125192   \n",
       "annual_inc                -0.040600  0.134694   0.284877    0.035482   \n",
       "dti                        0.008631  0.222317   0.107668    0.139436   \n",
       "\n",
       "             total_acc  total_rec_int  tot_cur_bal  total_rev_hi_lim  \\\n",
       "loan_amnt     0.207959       0.625350     0.314061          0.313977   \n",
       "int_rate     -0.043141       0.404858    -0.084949         -0.161939   \n",
       "installment   0.184997       0.559727     0.283589          0.288899   \n",
       "annual_inc    0.175214       0.138044     0.395473          0.272829   \n",
       "dti           0.171562       0.066513     0.005774          0.054343   \n",
       "\n",
       "             acc_open_past_24mths  avg_cur_bal  bc_open_to_buy   bc_util  \\\n",
       "loan_amnt                0.009850     0.229045        0.198687  0.051282   \n",
       "int_rate                 0.189410    -0.084150       -0.279752  0.251333   \n",
       "installment              0.023308     0.202886        0.165364  0.073348   \n",
       "annual_inc               0.056788     0.305553        0.157314 -0.003113   \n",
       "dti                      0.118039    -0.084593       -0.058951  0.142585   \n",
       "\n",
       "             mo_sin_old_il_acct  mo_sin_old_rev_tl_op  mo_sin_rcnt_rev_tl_op  \\\n",
       "loan_amnt              0.122838              0.163086               0.047103   \n",
       "int_rate              -0.071307             -0.138239              -0.106558   \n",
       "installment            0.101810              0.142956               0.033141   \n",
       "annual_inc             0.111451              0.129867               0.031857   \n",
       "dti                    0.035753              0.033443              -0.018578   \n",
       "\n",
       "             mo_sin_rcnt_tl  mort_acc  mths_since_recent_bc  \\\n",
       "loan_amnt          0.024148  0.222800              0.031127   \n",
       "int_rate          -0.127580 -0.084477             -0.084478   \n",
       "installment        0.015108  0.189834              0.018222   \n",
       "annual_inc        -0.026053  0.212413              0.027114   \n",
       "dti               -0.072994 -0.028703             -0.006491   \n",
       "\n",
       "             mths_since_recent_inq  num_accts_ever_120_pd  num_actv_bc_tl  \\\n",
       "loan_amnt                -0.000804              -0.050012        0.194699   \n",
       "int_rate                 -0.167838               0.043068        0.022434   \n",
       "installment              -0.015001              -0.041419        0.197837   \n",
       "annual_inc               -0.041409               0.016959        0.104043   \n",
       "dti                      -0.000460              -0.033445        0.126553   \n",
       "\n",
       "             num_actv_rev_tl  num_bc_sats  num_bc_tl  num_il_tl  \\\n",
       "loan_amnt           0.151751     0.214244   0.196490   0.077965   \n",
       "int_rate            0.085433    -0.054220  -0.084570   0.011214   \n",
       "installment         0.159249     0.206882   0.183646   0.061855   \n",
       "annual_inc          0.072910     0.122042   0.126063   0.100816   \n",
       "dti                 0.189443     0.078995   0.050379   0.172761   \n",
       "\n",
       "             num_op_rev_tl  num_rev_accts  num_rev_tl_bal_gt_0  num_sats  \\\n",
       "loan_amnt         0.166153       0.169798             0.151085  0.182592   \n",
       "int_rate         -0.009240      -0.057698             0.085264 -0.009760   \n",
       "installment       0.162045       0.157889             0.158397  0.171813   \n",
       "annual_inc        0.078489       0.101622             0.071803  0.132018   \n",
       "dti               0.135692       0.098367             0.191549  0.215250   \n",
       "\n",
       "             num_tl_op_past_12m  pct_tl_nvr_dlq  percent_bc_gt_75  \\\n",
       "loan_amnt             -0.020170        0.088380          0.020534   \n",
       "int_rate               0.206953       -0.063691          0.248452   \n",
       "installment            0.000124        0.070895          0.040161   \n",
       "annual_inc             0.052381       -0.007148         -0.016449   \n",
       "dti                    0.068989        0.072107          0.127605   \n",
       "\n",
       "             tot_hi_cred_lim  total_bal_ex_mort  total_bc_limit  \\\n",
       "loan_amnt           0.334489           0.275585        0.371308   \n",
       "int_rate           -0.118580           0.004378       -0.228236   \n",
       "installment         0.301801           0.260305        0.339266   \n",
       "annual_inc          0.408622           0.314981        0.268167   \n",
       "dti                 0.015032           0.223639        0.026600   \n",
       "\n",
       "             total_il_high_credit_limit  \n",
       "loan_amnt                      0.200281  \n",
       "int_rate                      -0.002983  \n",
       "installment                    0.185527  \n",
       "annual_inc                     0.261800  \n",
       "dti                            0.252266  "
      ]
     },
     "execution_count": 20,
     "metadata": {},
     "output_type": "execute_result"
    }
   ],
   "source": [
    "#call the .corr() method on df_nu to look at all the correlations between techniquecally continous numeric variables. \n",
    "#As the documentation shows, the correlation coefficient is the Pearson correlation coefficient \n",
    "df_nu.corr().head()"
   ]
  },
  {
   "cell_type": "code",
   "execution_count": 21,
   "metadata": {},
   "outputs": [
    {
     "data": {
      "text/plain": [
       "<AxesSubplot:>"
      ]
     },
     "execution_count": 21,
     "metadata": {},
     "output_type": "execute_result"
    },
    {
     "data": {
      "image/png": "[encoded data removed]",
      "text/plain": [
       "<Figure size 1152x864 with 2 Axes>"
      ]
     },
     "metadata": {
      "needs_background": "light"
     },
     "output_type": "display_data"
    }
   ],
   "source": [
    "plt.figure(figsize=(16, 12))\n",
    "sns.heatmap(df_nu.corr())"
   ]
  },
  {
   "cell_type": "markdown",
   "metadata": {},
   "source": [
    "There are some variables are highly correlated, we want to pull them out"
   ]
  },
  {
   "cell_type": "code",
   "execution_count": 22,
   "metadata": {},
   "outputs": [],
   "source": [
    "# stackoverflow_Aran: a function to to find the most correlated pairs and avoid duplicate and self correlations with proper sorting\n",
    "def get_redundant_pairs(df):\n",
    "    '''Get diagonal and lower triangular pairs of correlation matrix'''\n",
    "    pairs_to_drop = set()\n",
    "    cols = df.columns\n",
    "    for i in range(0, df.shape[1]):\n",
    "        for j in range(0, i+1):\n",
    "            pairs_to_drop.add((cols[i], cols[j]))\n",
    "    return pairs_to_drop\n",
    "\n",
    "def get_top_abs_correlations(df, n=5):\n",
    "    au_corr = df.corr().abs().unstack()\n",
    "    labels_to_drop = get_redundant_pairs(df)\n",
    "    au_corr = au_corr.drop(labels=labels_to_drop).sort_values(ascending=False)\n",
    "    return au_corr[0:n]"
   ]
  },
  {
   "cell_type": "code",
   "execution_count": 23,
   "metadata": {},
   "outputs": [
    {
     "data": {
      "text/plain": [
       "fico_range_low   fico_range_high        1.000000\n",
       "open_acc         num_sats               0.998736\n",
       "num_actv_rev_tl  num_rev_tl_bal_gt_0    0.981991\n",
       "tot_cur_bal      tot_hi_cred_lim        0.972975\n",
       "loan_amnt        installment            0.953082\n",
       "dtype: float64"
      ]
     },
     "execution_count": 23,
     "metadata": {},
     "output_type": "execute_result"
    }
   ],
   "source": [
    "#the highly correlated paris are higher than or equal to 0.9 is shown below\n",
    "top_corr = get_top_abs_correlations(df_nu, 10)\n",
    "top_corr = top_corr[top_corr >= 0.9].dropna()\n",
    "top_corr"
   ]
  },
  {
   "cell_type": "code",
   "execution_count": 24,
   "metadata": {},
   "outputs": [
    {
     "data": {
      "text/plain": [
       "<AxesSubplot:xlabel='fico_range_low', ylabel='fico_range_high'>"
      ]
     },
     "execution_count": 24,
     "metadata": {},
     "output_type": "execute_result"
    },
    {
     "data": {
      "image/png": "[encoded data removed]",
      "text/plain": [
       "<Figure size 432x288 with 1 Axes>"
      ]
     },
     "metadata": {
      "needs_background": "light"
     },
     "output_type": "display_data"
    }
   ],
   "source": [
    "#remove one of the variables\n",
    "sns.regplot(x='fico_range_low', y='fico_range_high', data=df_nu)"
   ]
  },
  {
   "cell_type": "code",
   "execution_count": 25,
   "metadata": {},
   "outputs": [
    {
     "data": {
      "text/plain": [
       "<AxesSubplot:xlabel='open_acc', ylabel='num_sats'>"
      ]
     },
     "execution_count": 25,
     "metadata": {},
     "output_type": "execute_result"
    },
    {
     "data": {
      "image/png": "[encoded data removed]",
      "text/plain": [
       "<Figure size 432x288 with 1 Axes>"
      ]
     },
     "metadata": {
      "needs_background": "light"
     },
     "output_type": "display_data"
    }
   ],
   "source": [
    "#drop one of the variables\n",
    "sns.regplot(x='open_acc', y='num_sats', data=df_nu)"
   ]
  },
  {
   "cell_type": "code",
   "execution_count": 26,
   "metadata": {},
   "outputs": [
    {
     "data": {
      "text/plain": [
       "<AxesSubplot:xlabel='num_actv_rev_tl', ylabel='num_rev_tl_bal_gt_0'>"
      ]
     },
     "execution_count": 26,
     "metadata": {},
     "output_type": "execute_result"
    },
    {
     "data": {
      "image/png": "[encoded data removed]",
      "text/plain": [
       "<Figure size 432x288 with 1 Axes>"
      ]
     },
     "metadata": {
      "needs_background": "light"
     },
     "output_type": "display_data"
    }
   ],
   "source": [
    "# drop one of the variables\n",
    "sns.regplot(x='num_actv_rev_tl', y='num_rev_tl_bal_gt_0', data=df_nu)"
   ]
  },
  {
   "cell_type": "code",
   "execution_count": 27,
   "metadata": {},
   "outputs": [
    {
     "data": {
      "text/plain": [
       "<AxesSubplot:xlabel='tot_cur_bal', ylabel='tot_hi_cred_lim'>"
      ]
     },
     "execution_count": 27,
     "metadata": {},
     "output_type": "execute_result"
    },
    {
     "data": {
      "image/png": "[encoded data removed]",
      "text/plain": [
       "<Figure size 432x288 with 1 Axes>"
      ]
     },
     "metadata": {
      "needs_background": "light"
     },
     "output_type": "display_data"
    }
   ],
   "source": [
    "#drop one of the variables\n",
    "sns.regplot(x='tot_cur_bal', y='tot_hi_cred_lim', data=df_nu)"
   ]
  },
  {
   "cell_type": "code",
   "execution_count": 28,
   "metadata": {},
   "outputs": [
    {
     "data": {
      "text/plain": [
       "<AxesSubplot:xlabel='installment', ylabel='loan_amnt'>"
      ]
     },
     "execution_count": 28,
     "metadata": {},
     "output_type": "execute_result"
    },
    {
     "data": {
      "image/png": "[encoded data removed]",
      "text/plain": [
       "<Figure size 432x288 with 1 Axes>"
      ]
     },
     "metadata": {
      "needs_background": "light"
     },
     "output_type": "display_data"
    }
   ],
   "source": [
    "#althought installment is highly correlated with loan_amnt, there is a wide range of loan amount from about 400 to 1000 installment, we keep both so far\n",
    "sns.regplot(x='installment', y='loan_amnt', data=df_nu)"
   ]
  },
  {
   "cell_type": "code",
   "execution_count": 29,
   "metadata": {},
   "outputs": [],
   "source": [
    "# the highly correlated pairs will decrease the importantce of each other and we hope to apply less features for creating a model\n",
    "drop_nu = ['fico_range_high','num_sats', 'num_rev_tl_bal_gt_0', 'tot_hi_cred_lim']\n",
    "df = df[[c for c in df.columns if c not in drop_nu]]"
   ]
  },
  {
   "cell_type": "markdown",
   "metadata": {},
   "source": [
    "**5.We will test if Default because it has different loan_amnt from Non-default, Null hypothesis will be there is no difference between the two groups.**\n",
    "scipy.stats.ttest_ind: will used to test if 2 independent samples have identical average (expected) values. This test assumes that the populations have identical variances by default."
   ]
  },
  {
   "cell_type": "code",
   "execution_count": 30,
   "metadata": {},
   "outputs": [],
   "source": [
    "#subset the Default and Fu_paid group for convinence\n",
    "Default = df[df['Default'] == 1]\n",
    "Fu_paid = df[df['Default'] == 0]"
   ]
  },
  {
   "cell_type": "code",
   "execution_count": 31,
   "metadata": {},
   "outputs": [],
   "source": [
    "#extract numeric variables \n",
    "Default_nu = Default[[c for c in Default.columns if c not in non_nu]]"
   ]
  },
  {
   "cell_type": "code",
   "execution_count": 32,
   "metadata": {},
   "outputs": [],
   "source": [
    "#extract numeric variables\n",
    "Fu_paid_nu = Fu_paid[[c for c in Fu_paid.columns if c not in non_nu]]"
   ]
  },
  {
   "cell_type": "code",
   "execution_count": 33,
   "metadata": {},
   "outputs": [
    {
     "data": {
      "text/plain": [
       "array([ True,  True,  True,  True,  True,  True,  True,  True,  True,\n",
       "        True,  True,  True,  True,  True,  True,  True,  True,  True,\n",
       "        True,  True,  True,  True,  True,  True,  True,  True,  True,\n",
       "        True,  True,  True,  True,  True,  True,  True,  True,  True,\n",
       "        True,  True,  True,  True,  True])"
      ]
     },
     "execution_count": 33,
     "metadata": {},
     "output_type": "execute_result"
    }
   ],
   "source": [
    "Fu_paid_nu.columns == Default_nu.columns"
   ]
  },
  {
   "cell_type": "code",
   "execution_count": 34,
   "metadata": {},
   "outputs": [],
   "source": [
    "Ttest_results = pd.DataFrame()"
   ]
  },
  {
   "cell_type": "code",
   "execution_count": 35,
   "metadata": {},
   "outputs": [],
   "source": [
    "for col in Default_nu.columns:\n",
    "    Ttest_result = []\n",
    "    a = Default_nu[col].values\n",
    "    b = Fu_paid_nu[col].values\n",
    "    Ttest_result.append(stats.ttest_ind(a, b, nan_policy='omit', equal_var = False))\n",
    "    Ttest_results.loc[col, 'statistic'] = list(Ttest_result)[0][0]\n",
    "    Ttest_results.loc[col, 'pvalue'] = list(Ttest_result)[0][1]"
   ]
  },
  {
   "cell_type": "code",
   "execution_count": 36,
   "metadata": {},
   "outputs": [
    {
     "data": {
      "text/html": [
       "<div>\n",
       "<style scoped>\n",
       "    .dataframe tbody tr th:only-of-type {\n",
       "        vertical-align: middle;\n",
       "    }\n",
       "\n",
       "    .dataframe tbody tr th {\n",
       "        vertical-align: top;\n",
       "    }\n",
       "\n",
       "    .dataframe thead th {\n",
       "        text-align: right;\n",
       "    }\n",
       "</style>\n",
       "<table border=\"1\" class=\"dataframe\">\n",
       "  <thead>\n",
       "    <tr style=\"text-align: right;\">\n",
       "      <th></th>\n",
       "      <th>statistic</th>\n",
       "      <th>pvalue</th>\n",
       "    </tr>\n",
       "  </thead>\n",
       "  <tbody>\n",
       "    <tr>\n",
       "      <th>loan_amnt</th>\n",
       "      <td>82.628150</td>\n",
       "      <td>0.000000e+00</td>\n",
       "    </tr>\n",
       "    <tr>\n",
       "      <th>percent_bc_gt_75</th>\n",
       "      <td>70.435980</td>\n",
       "      <td>0.000000e+00</td>\n",
       "    </tr>\n",
       "    <tr>\n",
       "      <th>num_tl_op_past_12m</th>\n",
       "      <td>92.231393</td>\n",
       "      <td>0.000000e+00</td>\n",
       "    </tr>\n",
       "    <tr>\n",
       "      <th>num_actv_rev_tl</th>\n",
       "      <td>74.902914</td>\n",
       "      <td>0.000000e+00</td>\n",
       "    </tr>\n",
       "    <tr>\n",
       "      <th>num_actv_bc_tl</th>\n",
       "      <td>45.128793</td>\n",
       "      <td>0.000000e+00</td>\n",
       "    </tr>\n",
       "    <tr>\n",
       "      <th>mths_since_recent_inq</th>\n",
       "      <td>-62.836885</td>\n",
       "      <td>0.000000e+00</td>\n",
       "    </tr>\n",
       "    <tr>\n",
       "      <th>mths_since_recent_bc</th>\n",
       "      <td>-62.848329</td>\n",
       "      <td>0.000000e+00</td>\n",
       "    </tr>\n",
       "    <tr>\n",
       "      <th>mort_acc</th>\n",
       "      <td>-97.633146</td>\n",
       "      <td>0.000000e+00</td>\n",
       "    </tr>\n",
       "    <tr>\n",
       "      <th>mo_sin_rcnt_tl</th>\n",
       "      <td>-65.873112</td>\n",
       "      <td>0.000000e+00</td>\n",
       "    </tr>\n",
       "    <tr>\n",
       "      <th>mo_sin_rcnt_rev_tl_op</th>\n",
       "      <td>-64.842657</td>\n",
       "      <td>0.000000e+00</td>\n",
       "    </tr>\n",
       "    <tr>\n",
       "      <th>mo_sin_old_rev_tl_op</th>\n",
       "      <td>-59.258835</td>\n",
       "      <td>0.000000e+00</td>\n",
       "    </tr>\n",
       "    <tr>\n",
       "      <th>bc_open_to_buy</th>\n",
       "      <td>-105.920986</td>\n",
       "      <td>0.000000e+00</td>\n",
       "    </tr>\n",
       "    <tr>\n",
       "      <th>avg_cur_bal</th>\n",
       "      <td>-102.400392</td>\n",
       "      <td>0.000000e+00</td>\n",
       "    </tr>\n",
       "    <tr>\n",
       "      <th>acc_open_past_24mths</th>\n",
       "      <td>108.866709</td>\n",
       "      <td>0.000000e+00</td>\n",
       "    </tr>\n",
       "    <tr>\n",
       "      <th>total_rev_hi_lim</th>\n",
       "      <td>-70.939861</td>\n",
       "      <td>0.000000e+00</td>\n",
       "    </tr>\n",
       "    <tr>\n",
       "      <th>bc_util</th>\n",
       "      <td>69.878084</td>\n",
       "      <td>0.000000e+00</td>\n",
       "    </tr>\n",
       "    <tr>\n",
       "      <th>total_rec_int</th>\n",
       "      <td>71.008167</td>\n",
       "      <td>0.000000e+00</td>\n",
       "    </tr>\n",
       "    <tr>\n",
       "      <th>int_rate</th>\n",
       "      <td>303.430511</td>\n",
       "      <td>0.000000e+00</td>\n",
       "    </tr>\n",
       "    <tr>\n",
       "      <th>installment</th>\n",
       "      <td>65.784271</td>\n",
       "      <td>0.000000e+00</td>\n",
       "    </tr>\n",
       "    <tr>\n",
       "      <th>annual_inc</th>\n",
       "      <td>-47.649741</td>\n",
       "      <td>0.000000e+00</td>\n",
       "    </tr>\n",
       "    <tr>\n",
       "      <th>dti</th>\n",
       "      <td>92.585517</td>\n",
       "      <td>0.000000e+00</td>\n",
       "    </tr>\n",
       "    <tr>\n",
       "      <th>tot_cur_bal</th>\n",
       "      <td>-89.622647</td>\n",
       "      <td>0.000000e+00</td>\n",
       "    </tr>\n",
       "    <tr>\n",
       "      <th>fico_range_low</th>\n",
       "      <td>-173.749921</td>\n",
       "      <td>0.000000e+00</td>\n",
       "    </tr>\n",
       "    <tr>\n",
       "      <th>inq_last_6mths</th>\n",
       "      <td>69.019842</td>\n",
       "      <td>0.000000e+00</td>\n",
       "    </tr>\n",
       "    <tr>\n",
       "      <th>total_bc_limit</th>\n",
       "      <td>-90.148741</td>\n",
       "      <td>0.000000e+00</td>\n",
       "    </tr>\n",
       "    <tr>\n",
       "      <th>revol_util</th>\n",
       "      <td>65.311281</td>\n",
       "      <td>0.000000e+00</td>\n",
       "    </tr>\n",
       "    <tr>\n",
       "      <th>num_op_rev_tl</th>\n",
       "      <td>35.303990</td>\n",
       "      <td>1.256607e-272</td>\n",
       "    </tr>\n",
       "    <tr>\n",
       "      <th>open_acc</th>\n",
       "      <td>30.973589</td>\n",
       "      <td>2.050574e-210</td>\n",
       "    </tr>\n",
       "    <tr>\n",
       "      <th>mo_sin_old_il_acct</th>\n",
       "      <td>-30.163672</td>\n",
       "      <td>1.170923e-199</td>\n",
       "    </tr>\n",
       "    <tr>\n",
       "      <th>revol_bal</th>\n",
       "      <td>-26.819104</td>\n",
       "      <td>2.460639e-158</td>\n",
       "    </tr>\n",
       "    <tr>\n",
       "      <th>num_bc_tl</th>\n",
       "      <td>-25.577403</td>\n",
       "      <td>3.458148e-144</td>\n",
       "    </tr>\n",
       "    <tr>\n",
       "      <th>delinq_2yrs</th>\n",
       "      <td>22.196697</td>\n",
       "      <td>4.256250e-109</td>\n",
       "    </tr>\n",
       "    <tr>\n",
       "      <th>total_acc</th>\n",
       "      <td>-18.088682</td>\n",
       "      <td>4.151835e-73</td>\n",
       "    </tr>\n",
       "    <tr>\n",
       "      <th>num_bc_sats</th>\n",
       "      <td>16.446504</td>\n",
       "      <td>9.268006e-61</td>\n",
       "    </tr>\n",
       "    <tr>\n",
       "      <th>pct_tl_nvr_dlq</th>\n",
       "      <td>-15.412969</td>\n",
       "      <td>1.383337e-53</td>\n",
       "    </tr>\n",
       "    <tr>\n",
       "      <th>num_accts_ever_120_pd</th>\n",
       "      <td>12.966972</td>\n",
       "      <td>1.914338e-38</td>\n",
       "    </tr>\n",
       "    <tr>\n",
       "      <th>num_rev_accts</th>\n",
       "      <td>-11.008324</td>\n",
       "      <td>3.513700e-28</td>\n",
       "    </tr>\n",
       "    <tr>\n",
       "      <th>mths_since_last_delinq</th>\n",
       "      <td>-10.854684</td>\n",
       "      <td>1.922631e-27</td>\n",
       "    </tr>\n",
       "    <tr>\n",
       "      <th>num_il_tl</th>\n",
       "      <td>5.673940</td>\n",
       "      <td>1.396391e-08</td>\n",
       "    </tr>\n",
       "    <tr>\n",
       "      <th>total_bal_ex_mort</th>\n",
       "      <td>-2.927877</td>\n",
       "      <td>3.413007e-03</td>\n",
       "    </tr>\n",
       "  </tbody>\n",
       "</table>\n",
       "</div>"
      ],
      "text/plain": [
       "                         statistic         pvalue\n",
       "loan_amnt                82.628150   0.000000e+00\n",
       "percent_bc_gt_75         70.435980   0.000000e+00\n",
       "num_tl_op_past_12m       92.231393   0.000000e+00\n",
       "num_actv_rev_tl          74.902914   0.000000e+00\n",
       "num_actv_bc_tl           45.128793   0.000000e+00\n",
       "mths_since_recent_inq   -62.836885   0.000000e+00\n",
       "mths_since_recent_bc    -62.848329   0.000000e+00\n",
       "mort_acc                -97.633146   0.000000e+00\n",
       "mo_sin_rcnt_tl          -65.873112   0.000000e+00\n",
       "mo_sin_rcnt_rev_tl_op   -64.842657   0.000000e+00\n",
       "mo_sin_old_rev_tl_op    -59.258835   0.000000e+00\n",
       "bc_open_to_buy         -105.920986   0.000000e+00\n",
       "avg_cur_bal            -102.400392   0.000000e+00\n",
       "acc_open_past_24mths    108.866709   0.000000e+00\n",
       "total_rev_hi_lim        -70.939861   0.000000e+00\n",
       "bc_util                  69.878084   0.000000e+00\n",
       "total_rec_int            71.008167   0.000000e+00\n",
       "int_rate                303.430511   0.000000e+00\n",
       "installment              65.784271   0.000000e+00\n",
       "annual_inc              -47.649741   0.000000e+00\n",
       "dti                      92.585517   0.000000e+00\n",
       "tot_cur_bal             -89.622647   0.000000e+00\n",
       "fico_range_low         -173.749921   0.000000e+00\n",
       "inq_last_6mths           69.019842   0.000000e+00\n",
       "total_bc_limit          -90.148741   0.000000e+00\n",
       "revol_util               65.311281   0.000000e+00\n",
       "num_op_rev_tl            35.303990  1.256607e-272\n",
       "open_acc                 30.973589  2.050574e-210\n",
       "mo_sin_old_il_acct      -30.163672  1.170923e-199\n",
       "revol_bal               -26.819104  2.460639e-158\n",
       "num_bc_tl               -25.577403  3.458148e-144\n",
       "delinq_2yrs              22.196697  4.256250e-109\n",
       "total_acc               -18.088682   4.151835e-73\n",
       "num_bc_sats              16.446504   9.268006e-61\n",
       "pct_tl_nvr_dlq          -15.412969   1.383337e-53\n",
       "num_accts_ever_120_pd    12.966972   1.914338e-38\n",
       "num_rev_accts           -11.008324   3.513700e-28\n",
       "mths_since_last_delinq  -10.854684   1.922631e-27\n",
       "num_il_tl                 5.673940   1.396391e-08\n",
       "total_bal_ex_mort        -2.927877   3.413007e-03"
      ]
     },
     "execution_count": 36,
     "metadata": {},
     "output_type": "execute_result"
    }
   ],
   "source": [
    "sig_pvalue = Ttest_results[Ttest_results['pvalue'] < 0.05]\n",
    "sig_pvalue.sort_values('pvalue')\n",
    "# total_il_high_credit_limit is the only variable has pvalue > 0.05, so we accept the null hypothesis- there is no difference between the two groups."
   ]
  }
 ],
 "metadata": {
  "kernelspec": {
   "display_name": "Python 3",
   "language": "python",
   "name": "python3"
  },
  "language_info": {
   "codemirror_mode": {
    "name": "ipython",
    "version": 3
   },
   "file_extension": ".py",
   "mimetype": "text/x-python",
   "name": "python",
   "nbconvert_exporter": "python",
   "pygments_lexer": "ipython3",
   "version": "3.8.5"
  }
 },
 "nbformat": 4,
 "nbformat_minor": 4
}
